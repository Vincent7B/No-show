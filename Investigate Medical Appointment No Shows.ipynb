{
 "cells": [
  {
   "cell_type": "markdown",
   "metadata": {},
   "source": [
    "\n",
    "# Project: Investigate Medical Appointment No Shows\n",
    "\n",
    "## Table of Contents\n",
    "<ul>\n",
    "<li><a href=\"#intro\">Introduction</a></li>\n",
    "<li><a href=\"#wrangling\">Data Wrangling</a></li>\n",
    "<li><a href=\"#eda\">Exploratory Data Analysis</a></li>\n",
    "<li><a href=\"#conclusions\">Conclusions</a></li>\n",
    "</ul>"
   ]
  },
  {
   "cell_type": "markdown",
   "metadata": {},
   "source": [
    "<a id='intro'></a>\n",
    "## Introduction\n",
    "\n",
    "The analyzed dataset, called noshowappointments-kagglev2-may-2016, is a record of more than 100k medical appointments. These appointements resulted by the patient showing-up or not. This no-show status is the main response (or dependant) variable we want to analyze. Ultimately, we would like to be able to predict whether a patient is likely to show-up or not. \n",
    "\n",
    "The other columns of the dataset are either:\n",
    "- patient characteristics: ID, gender, age, known diseases (hypertension, diabete, alcoholism), level (or number) of handicap, welfare recipient.\n",
    "- appointment characteristics: ID, date the appointment was set-up, date of the appointment, neighbourhood of the hospital where the appointment takes place, SMS received. This last variable was understood as a boolean with value 1 when a summary SMS with details of the appointment was sent to the patient once the appointment is scheduled. \n",
    "\n",
    "Here is the list of the questions we would like to explore in this report:\n",
    "- what is the 'magnitude' of the no-show problem (in terms of appointments and in terms of patients)?\n",
    "- what are the main features of the patients sample (age, gender, neighbourhood, 'serious' disease, welfare)? \n",
    "- Is the ratio of no-show significantly different for patients subsamples based on age? gender? etc. \n",
    "- Is there less no-show when a SMS has been sent?\n",
    "- How showing up or not to the medical appointment can be related to the number of days in advance the appointment was made?\n",
    "- Finally, to which extent the no-shows are due to the same patients? Can we say there are \"serial no-shower\"?\n"
   ]
  },
  {
   "cell_type": "code",
   "execution_count": 1,
   "metadata": {
    "collapsed": true
   },
   "outputs": [],
   "source": [
    "# import useful packages\n",
    "\n",
    "import matplotlib.pyplot as plt\n",
    "import numpy as np\n",
    "import pandas as pd\n",
    "from datetime import datetime\n",
    "import seaborn as sns\n",
    "from statsmodels.graphics.mosaicplot import mosaic\n",
    "%matplotlib inline\n"
   ]
  },
  {
   "cell_type": "markdown",
   "metadata": {},
   "source": [
    "<a id='wrangling'></a>\n",
    "## Data Wrangling\n",
    "\n",
    "\n",
    "### General Properties"
   ]
  },
  {
   "cell_type": "markdown",
   "metadata": {},
   "source": [
    "We start by reading the original csv file, and plot the 5 first lines to have a look at the variables."
   ]
  },
  {
   "cell_type": "code",
   "execution_count": 2,
   "metadata": {},
   "outputs": [
    {
     "data": {
      "text/html": [
       "<div>\n",
       "<style>\n",
       "    .dataframe thead tr:only-child th {\n",
       "        text-align: right;\n",
       "    }\n",
       "\n",
       "    .dataframe thead th {\n",
       "        text-align: left;\n",
       "    }\n",
       "\n",
       "    .dataframe tbody tr th {\n",
       "        vertical-align: top;\n",
       "    }\n",
       "</style>\n",
       "<table border=\"1\" class=\"dataframe\">\n",
       "  <thead>\n",
       "    <tr style=\"text-align: right;\">\n",
       "      <th></th>\n",
       "      <th>PatientId</th>\n",
       "      <th>AppointmentID</th>\n",
       "      <th>Gender</th>\n",
       "      <th>ScheduledDay</th>\n",
       "      <th>AppointmentDay</th>\n",
       "      <th>Age</th>\n",
       "      <th>Neighbourhood</th>\n",
       "      <th>Scholarship</th>\n",
       "      <th>Hipertension</th>\n",
       "      <th>Diabetes</th>\n",
       "      <th>Alcoholism</th>\n",
       "      <th>Handcap</th>\n",
       "      <th>SMS_received</th>\n",
       "      <th>No-show</th>\n",
       "    </tr>\n",
       "  </thead>\n",
       "  <tbody>\n",
       "    <tr>\n",
       "      <th>0</th>\n",
       "      <td>2.987250e+13</td>\n",
       "      <td>5642903</td>\n",
       "      <td>F</td>\n",
       "      <td>2016-04-29T18:38:08Z</td>\n",
       "      <td>2016-04-29T00:00:00Z</td>\n",
       "      <td>62</td>\n",
       "      <td>JARDIM DA PENHA</td>\n",
       "      <td>0</td>\n",
       "      <td>1</td>\n",
       "      <td>0</td>\n",
       "      <td>0</td>\n",
       "      <td>0</td>\n",
       "      <td>0</td>\n",
       "      <td>No</td>\n",
       "    </tr>\n",
       "    <tr>\n",
       "      <th>1</th>\n",
       "      <td>5.589978e+14</td>\n",
       "      <td>5642503</td>\n",
       "      <td>M</td>\n",
       "      <td>2016-04-29T16:08:27Z</td>\n",
       "      <td>2016-04-29T00:00:00Z</td>\n",
       "      <td>56</td>\n",
       "      <td>JARDIM DA PENHA</td>\n",
       "      <td>0</td>\n",
       "      <td>0</td>\n",
       "      <td>0</td>\n",
       "      <td>0</td>\n",
       "      <td>0</td>\n",
       "      <td>0</td>\n",
       "      <td>No</td>\n",
       "    </tr>\n",
       "    <tr>\n",
       "      <th>2</th>\n",
       "      <td>4.262962e+12</td>\n",
       "      <td>5642549</td>\n",
       "      <td>F</td>\n",
       "      <td>2016-04-29T16:19:04Z</td>\n",
       "      <td>2016-04-29T00:00:00Z</td>\n",
       "      <td>62</td>\n",
       "      <td>MATA DA PRAIA</td>\n",
       "      <td>0</td>\n",
       "      <td>0</td>\n",
       "      <td>0</td>\n",
       "      <td>0</td>\n",
       "      <td>0</td>\n",
       "      <td>0</td>\n",
       "      <td>No</td>\n",
       "    </tr>\n",
       "    <tr>\n",
       "      <th>3</th>\n",
       "      <td>8.679512e+11</td>\n",
       "      <td>5642828</td>\n",
       "      <td>F</td>\n",
       "      <td>2016-04-29T17:29:31Z</td>\n",
       "      <td>2016-04-29T00:00:00Z</td>\n",
       "      <td>8</td>\n",
       "      <td>PONTAL DE CAMBURI</td>\n",
       "      <td>0</td>\n",
       "      <td>0</td>\n",
       "      <td>0</td>\n",
       "      <td>0</td>\n",
       "      <td>0</td>\n",
       "      <td>0</td>\n",
       "      <td>No</td>\n",
       "    </tr>\n",
       "    <tr>\n",
       "      <th>4</th>\n",
       "      <td>8.841186e+12</td>\n",
       "      <td>5642494</td>\n",
       "      <td>F</td>\n",
       "      <td>2016-04-29T16:07:23Z</td>\n",
       "      <td>2016-04-29T00:00:00Z</td>\n",
       "      <td>56</td>\n",
       "      <td>JARDIM DA PENHA</td>\n",
       "      <td>0</td>\n",
       "      <td>1</td>\n",
       "      <td>1</td>\n",
       "      <td>0</td>\n",
       "      <td>0</td>\n",
       "      <td>0</td>\n",
       "      <td>No</td>\n",
       "    </tr>\n",
       "  </tbody>\n",
       "</table>\n",
       "</div>"
      ],
      "text/plain": [
       "      PatientId  AppointmentID Gender          ScheduledDay  \\\n",
       "0  2.987250e+13        5642903      F  2016-04-29T18:38:08Z   \n",
       "1  5.589978e+14        5642503      M  2016-04-29T16:08:27Z   \n",
       "2  4.262962e+12        5642549      F  2016-04-29T16:19:04Z   \n",
       "3  8.679512e+11        5642828      F  2016-04-29T17:29:31Z   \n",
       "4  8.841186e+12        5642494      F  2016-04-29T16:07:23Z   \n",
       "\n",
       "         AppointmentDay  Age      Neighbourhood  Scholarship  Hipertension  \\\n",
       "0  2016-04-29T00:00:00Z   62    JARDIM DA PENHA            0             1   \n",
       "1  2016-04-29T00:00:00Z   56    JARDIM DA PENHA            0             0   \n",
       "2  2016-04-29T00:00:00Z   62      MATA DA PRAIA            0             0   \n",
       "3  2016-04-29T00:00:00Z    8  PONTAL DE CAMBURI            0             0   \n",
       "4  2016-04-29T00:00:00Z   56    JARDIM DA PENHA            0             1   \n",
       "\n",
       "   Diabetes  Alcoholism  Handcap  SMS_received No-show  \n",
       "0         0           0        0             0      No  \n",
       "1         0           0        0             0      No  \n",
       "2         0           0        0             0      No  \n",
       "3         0           0        0             0      No  \n",
       "4         1           0        0             0      No  "
      ]
     },
     "execution_count": 2,
     "metadata": {},
     "output_type": "execute_result"
    }
   ],
   "source": [
    "filename = 'C:/Users/Vincent/DatasetInvestigation/noshowappointments-kagglev2-may-2016.csv'\n",
    "noshow_df = pd.read_csv(filename)\n",
    "\n",
    "noshow_df.head(5)"
   ]
  },
  {
   "cell_type": "markdown",
   "metadata": {},
   "source": [
    "First we want to know the number of appointments, the number of patients and the considered time period."
   ]
  },
  {
   "cell_type": "code",
   "execution_count": 3,
   "metadata": {},
   "outputs": [
    {
     "name": "stdout",
     "output_type": "stream",
     "text": [
      "The file contains 110527 records of appointments from 62299 patients covering the period from 2016-04-29 to 2016-06-08.\n"
     ]
    }
   ],
   "source": [
    "nb_appt=len(noshow_df);\n",
    "nb_patients=len(noshow_df.groupby('PatientId'))\n",
    "first_appt_day=noshow_df['AppointmentDay'].min()\n",
    "last_appt_day=noshow_df['AppointmentDay'].max()\n",
    "# we use the split function to get only the date part of the AppointmentDay string\n",
    "\n",
    "print('The file contains {} records of appointments from {} patients covering the period from {} to {}.' \\\n",
    "      .format(nb_appt,nb_patients,first_appt_day.split('T')[0],last_appt_day.split('T')[0]))\n",
    "\n",
    "# note that we checked that ApointmentID is unique by comparing len(noshow_df) and len(noshow_df.groupby('AppointmentID'))."
   ]
  },
  {
   "cell_type": "markdown",
   "metadata": {},
   "source": [
    "We are dealing with a relatively short period of time (less than 2 months). \n",
    "Therefore we can neglect the change in age (if any) for the different appointments of a given patient."
   ]
  },
  {
   "cell_type": "markdown",
   "metadata": {},
   "source": [
    "Now we use the describe function to have a global vision on the quantitative variables:"
   ]
  },
  {
   "cell_type": "code",
   "execution_count": 4,
   "metadata": {},
   "outputs": [
    {
     "data": {
      "text/html": [
       "<div>\n",
       "<style>\n",
       "    .dataframe thead tr:only-child th {\n",
       "        text-align: right;\n",
       "    }\n",
       "\n",
       "    .dataframe thead th {\n",
       "        text-align: left;\n",
       "    }\n",
       "\n",
       "    .dataframe tbody tr th {\n",
       "        vertical-align: top;\n",
       "    }\n",
       "</style>\n",
       "<table border=\"1\" class=\"dataframe\">\n",
       "  <thead>\n",
       "    <tr style=\"text-align: right;\">\n",
       "      <th></th>\n",
       "      <th>PatientId</th>\n",
       "      <th>AppointmentID</th>\n",
       "      <th>Age</th>\n",
       "      <th>Scholarship</th>\n",
       "      <th>Hipertension</th>\n",
       "      <th>Diabetes</th>\n",
       "      <th>Alcoholism</th>\n",
       "      <th>Handcap</th>\n",
       "      <th>SMS_received</th>\n",
       "    </tr>\n",
       "  </thead>\n",
       "  <tbody>\n",
       "    <tr>\n",
       "      <th>count</th>\n",
       "      <td>1.105270e+05</td>\n",
       "      <td>1.105270e+05</td>\n",
       "      <td>110527.000000</td>\n",
       "      <td>110527.000000</td>\n",
       "      <td>110527.000000</td>\n",
       "      <td>110527.000000</td>\n",
       "      <td>110527.000000</td>\n",
       "      <td>110527.000000</td>\n",
       "      <td>110527.000000</td>\n",
       "    </tr>\n",
       "    <tr>\n",
       "      <th>mean</th>\n",
       "      <td>1.474963e+14</td>\n",
       "      <td>5.675305e+06</td>\n",
       "      <td>37.088874</td>\n",
       "      <td>0.098266</td>\n",
       "      <td>0.197246</td>\n",
       "      <td>0.071865</td>\n",
       "      <td>0.030400</td>\n",
       "      <td>0.022248</td>\n",
       "      <td>0.321026</td>\n",
       "    </tr>\n",
       "    <tr>\n",
       "      <th>std</th>\n",
       "      <td>2.560949e+14</td>\n",
       "      <td>7.129575e+04</td>\n",
       "      <td>23.110205</td>\n",
       "      <td>0.297675</td>\n",
       "      <td>0.397921</td>\n",
       "      <td>0.258265</td>\n",
       "      <td>0.171686</td>\n",
       "      <td>0.161543</td>\n",
       "      <td>0.466873</td>\n",
       "    </tr>\n",
       "    <tr>\n",
       "      <th>min</th>\n",
       "      <td>3.921784e+04</td>\n",
       "      <td>5.030230e+06</td>\n",
       "      <td>-1.000000</td>\n",
       "      <td>0.000000</td>\n",
       "      <td>0.000000</td>\n",
       "      <td>0.000000</td>\n",
       "      <td>0.000000</td>\n",
       "      <td>0.000000</td>\n",
       "      <td>0.000000</td>\n",
       "    </tr>\n",
       "    <tr>\n",
       "      <th>25%</th>\n",
       "      <td>4.172614e+12</td>\n",
       "      <td>5.640286e+06</td>\n",
       "      <td>18.000000</td>\n",
       "      <td>0.000000</td>\n",
       "      <td>0.000000</td>\n",
       "      <td>0.000000</td>\n",
       "      <td>0.000000</td>\n",
       "      <td>0.000000</td>\n",
       "      <td>0.000000</td>\n",
       "    </tr>\n",
       "    <tr>\n",
       "      <th>50%</th>\n",
       "      <td>3.173184e+13</td>\n",
       "      <td>5.680573e+06</td>\n",
       "      <td>37.000000</td>\n",
       "      <td>0.000000</td>\n",
       "      <td>0.000000</td>\n",
       "      <td>0.000000</td>\n",
       "      <td>0.000000</td>\n",
       "      <td>0.000000</td>\n",
       "      <td>0.000000</td>\n",
       "    </tr>\n",
       "    <tr>\n",
       "      <th>75%</th>\n",
       "      <td>9.439172e+13</td>\n",
       "      <td>5.725524e+06</td>\n",
       "      <td>55.000000</td>\n",
       "      <td>0.000000</td>\n",
       "      <td>0.000000</td>\n",
       "      <td>0.000000</td>\n",
       "      <td>0.000000</td>\n",
       "      <td>0.000000</td>\n",
       "      <td>1.000000</td>\n",
       "    </tr>\n",
       "    <tr>\n",
       "      <th>max</th>\n",
       "      <td>9.999816e+14</td>\n",
       "      <td>5.790484e+06</td>\n",
       "      <td>115.000000</td>\n",
       "      <td>1.000000</td>\n",
       "      <td>1.000000</td>\n",
       "      <td>1.000000</td>\n",
       "      <td>1.000000</td>\n",
       "      <td>4.000000</td>\n",
       "      <td>1.000000</td>\n",
       "    </tr>\n",
       "  </tbody>\n",
       "</table>\n",
       "</div>"
      ],
      "text/plain": [
       "          PatientId  AppointmentID            Age    Scholarship  \\\n",
       "count  1.105270e+05   1.105270e+05  110527.000000  110527.000000   \n",
       "mean   1.474963e+14   5.675305e+06      37.088874       0.098266   \n",
       "std    2.560949e+14   7.129575e+04      23.110205       0.297675   \n",
       "min    3.921784e+04   5.030230e+06      -1.000000       0.000000   \n",
       "25%    4.172614e+12   5.640286e+06      18.000000       0.000000   \n",
       "50%    3.173184e+13   5.680573e+06      37.000000       0.000000   \n",
       "75%    9.439172e+13   5.725524e+06      55.000000       0.000000   \n",
       "max    9.999816e+14   5.790484e+06     115.000000       1.000000   \n",
       "\n",
       "        Hipertension       Diabetes     Alcoholism        Handcap  \\\n",
       "count  110527.000000  110527.000000  110527.000000  110527.000000   \n",
       "mean        0.197246       0.071865       0.030400       0.022248   \n",
       "std         0.397921       0.258265       0.171686       0.161543   \n",
       "min         0.000000       0.000000       0.000000       0.000000   \n",
       "25%         0.000000       0.000000       0.000000       0.000000   \n",
       "50%         0.000000       0.000000       0.000000       0.000000   \n",
       "75%         0.000000       0.000000       0.000000       0.000000   \n",
       "max         1.000000       1.000000       1.000000       4.000000   \n",
       "\n",
       "        SMS_received  \n",
       "count  110527.000000  \n",
       "mean        0.321026  \n",
       "std         0.466873  \n",
       "min         0.000000  \n",
       "25%         0.000000  \n",
       "50%         0.000000  \n",
       "75%         1.000000  \n",
       "max         1.000000  "
      ]
     },
     "execution_count": 4,
     "metadata": {},
     "output_type": "execute_result"
    }
   ],
   "source": [
    "noshow_df.describe()"
   ]
  },
  {
   "cell_type": "markdown",
   "metadata": {},
   "source": [
    "This quick overview gives confirmation that the Scholarship, Hipertension, Diabetes, Alcoholism and SMS_received variables are booleans.\n",
    "On the other hand, the Handcap variable has a maximum of 4, which let us assume that this is teh number of handicaps of the patient. We will check this later on in the data cleaning section.\n",
    "We also directly identify at least 1 surprising datapoint in the age column, the min being -1 year. This will also be dealt with in the next section."
   ]
  },
  {
   "cell_type": "markdown",
   "metadata": {},
   "source": [
    "Now let's have a closer look at the 'Neighbourhood' column.\n",
    "To display the list of neighbourhoods, we print, for instance:"
   ]
  },
  {
   "cell_type": "code",
   "execution_count": 5,
   "metadata": {},
   "outputs": [
    {
     "data": {
      "text/plain": [
       "Neighbourhood\n",
       "AEROPORTO              53.125000\n",
       "ANDORINHAS             36.106101\n",
       "ANTÔNIO HONÓRIO        36.845018\n",
       "ARIOVALDO FAVALESSA    32.847518\n",
       "BARRO VERMELHO         45.040189\n",
       "BELA VISTA             34.969061\n",
       "BENTO FERREIRA         44.613054\n",
       "BOA VISTA              31.243590\n",
       "BONFIM                 35.179228\n",
       "CARATOÍRA              37.020663\n",
       "CENTRO                 42.577984\n",
       "COMDUSA                36.235484\n",
       "CONQUISTA              31.879859\n",
       "CONSOLAÇÃO             35.843023\n",
       "CRUZAMENTO             34.723176\n",
       "DA PENHA               36.175462\n",
       "DE LOURDES             44.954098\n",
       "DO CABRAL              34.614286\n",
       "DO MOSCOSO             33.728814\n",
       "DO QUADRO              40.315665\n",
       "ENSEADA DO SUÁ         38.178723\n",
       "ESTRELINHA             37.771375\n",
       "FONTE GRANDE           38.237537\n",
       "FORTE SÃO JOÃO         33.129698\n",
       "FRADINHOS              45.701550\n",
       "GOIABEIRAS             39.602857\n",
       "GRANDE VITÓRIA         37.494865\n",
       "GURIGICA               30.135778\n",
       "HORTO                  34.800000\n",
       "ILHA DAS CAIEIRAS      33.652661\n",
       "                         ...    \n",
       "PARQUE INDUSTRIAL      17.000000\n",
       "PARQUE MOSCOSO         47.486284\n",
       "PIEDADE                31.787611\n",
       "PONTAL DE CAMBURI      32.028986\n",
       "PRAIA DO CANTO         50.941063\n",
       "PRAIA DO SUÁ           35.483696\n",
       "REDENÇÃO               33.651642\n",
       "REPÚBLICA              41.170060\n",
       "RESISTÊNCIA            32.919206\n",
       "ROMÃO                  34.358916\n",
       "SANTA CECÍLIA          40.904018\n",
       "SANTA CLARA            37.581028\n",
       "SANTA HELENA           38.657303\n",
       "SANTA LUÍZA            39.953271\n",
       "SANTA LÚCIA            45.506849\n",
       "SANTA MARTHA           36.764931\n",
       "SANTA TEREZA           36.222973\n",
       "SANTO ANDRÉ            32.594710\n",
       "SANTO ANTÔNIO          37.675164\n",
       "SANTOS DUMONT          37.744514\n",
       "SANTOS REIS            31.053016\n",
       "SEGURANÇA DO LAR       34.648276\n",
       "SOLON BORGES           44.816631\n",
       "SÃO BENEDITO           28.749131\n",
       "SÃO CRISTÓVÃO          39.197712\n",
       "SÃO JOSÉ               33.613556\n",
       "SÃO PEDRO              36.038807\n",
       "TABUAZEIRO             34.965517\n",
       "UNIVERSITÁRIO          42.039474\n",
       "VILA RUBIM             44.413631\n",
       "Name: Age, Length: 81, dtype: float64"
      ]
     },
     "execution_count": 5,
     "metadata": {},
     "output_type": "execute_result"
    }
   ],
   "source": [
    "noshow_df.groupby('Neighbourhood').mean()['Age']"
   ]
  },
  {
   "cell_type": "markdown",
   "metadata": {},
   "source": [
    "There are 81 different neighbourhood names in the dataset. After a quick search on internet, it turns out that they all seem to be neighbourhoods from the same brazilian city of Vitoria, capital of the state of Espírito Santo, Brazil:\n",
    "https://pt.wikipedia.org/wiki/Lista_de_bairros_de_Vit%C3%B3ria"
   ]
  },
  {
   "cell_type": "markdown",
   "metadata": {},
   "source": [
    "Finally, an overall look at the date variables ('ScheduledDay' and 'AppointmentDay') suggests that the time part of the 'AppointmentDay' variable is always zero. These dates are given as strings that we will have to handle so that to calculate the number of days between scheduling and appointment."
   ]
  },
  {
   "cell_type": "markdown",
   "metadata": {},
   "source": [
    "### Cleaning variable names"
   ]
  },
  {
   "cell_type": "markdown",
   "metadata": {},
   "source": [
    "We start by changing a few column names so that to stick with the same naming conventions and correct some typos."
   ]
  },
  {
   "cell_type": "code",
   "execution_count": 6,
   "metadata": {},
   "outputs": [
    {
     "name": "stdout",
     "output_type": "stream",
     "text": [
      "Index(['Patient_ID', 'Appointment_ID', 'Gender', 'Scheduled_day',\n",
      "       'Appointment_day', 'Age', 'Neighbourhood', 'Scholarship',\n",
      "       'Hypertension', 'Diabete', 'Alcoholism', 'Handicap', 'SMS_received',\n",
      "       'No-show'],\n",
      "      dtype='object')\n"
     ]
    }
   ],
   "source": [
    "noshow_df.rename(columns = {'PatientId':'Patient_ID',\n",
    "                            'AppointmentID':'Appointment_ID',\n",
    "                            'ScheduledDay': 'Scheduled_day',\n",
    "                            'AppointmentDay': 'Appointment_day',\n",
    "                            'Hipertension': 'Hypertension',\n",
    "                            'Diabetes': 'Diabete',\n",
    "                            'Handcap': 'Handicap'}, inplace = True)\n",
    "\n",
    "print(noshow_df.columns)"
   ]
  },
  {
   "cell_type": "markdown",
   "metadata": {},
   "source": [
    "### Checking for missing data\n",
    "\n",
    "We want to check that there is no NaN value in the 'Gender' variable and in the columns corresponding to quantitative variables. To do so, we apply the values_count function without dropping the NaN values, if any."
   ]
  },
  {
   "cell_type": "code",
   "execution_count": 7,
   "metadata": {},
   "outputs": [
    {
     "name": "stdout",
     "output_type": "stream",
     "text": [
      "F    71840\n",
      "M    38687\n",
      "Name: Gender, dtype: int64\n",
      "0    99666\n",
      "1    10861\n",
      "Name: Scholarship, dtype: int64\n",
      "0    88726\n",
      "1    21801\n",
      "Name: Hypertension, dtype: int64\n",
      "0    102584\n",
      "1      7943\n",
      "Name: Diabete, dtype: int64\n",
      "0    107167\n",
      "1      3360\n",
      "Name: Alcoholism, dtype: int64\n",
      "0    108286\n",
      "1      2042\n",
      "2       183\n",
      "3        13\n",
      "4         3\n",
      "Name: Handicap, dtype: int64\n",
      "0    75045\n",
      "1    35482\n",
      "Name: SMS_received, dtype: int64\n",
      "No     88208\n",
      "Yes    22319\n",
      "Name: No-show, dtype: int64\n"
     ]
    }
   ],
   "source": [
    "sub_noshow_df = noshow_df[['Gender','Scholarship','Hypertension','Diabete','Alcoholism','Handicap','SMS_received','No-show']]\n",
    "for col in sub_noshow_df:\n",
    "    print(sub_noshow_df[col].value_counts(dropna=False))"
   ]
  },
  {
   "cell_type": "markdown",
   "metadata": {},
   "source": [
    "We see that there is no NaN value in the considered columns. \n",
    "The frequency table of the column 'Handicap' gives the confirmation that this is not a boolean variable."
   ]
  },
  {
   "cell_type": "markdown",
   "metadata": {},
   "source": [
    "### Fixing the Age variable\n",
    "\n",
    "While having a general look at the data with describe function, we saw that the 'Age' variable has a minimum value of -1, which does not make sense.\n",
    "Let's have a look at the records where 'Age' is negative"
   ]
  },
  {
   "cell_type": "code",
   "execution_count": 8,
   "metadata": {},
   "outputs": [
    {
     "data": {
      "text/html": [
       "<div>\n",
       "<style>\n",
       "    .dataframe thead tr:only-child th {\n",
       "        text-align: right;\n",
       "    }\n",
       "\n",
       "    .dataframe thead th {\n",
       "        text-align: left;\n",
       "    }\n",
       "\n",
       "    .dataframe tbody tr th {\n",
       "        vertical-align: top;\n",
       "    }\n",
       "</style>\n",
       "<table border=\"1\" class=\"dataframe\">\n",
       "  <thead>\n",
       "    <tr style=\"text-align: right;\">\n",
       "      <th></th>\n",
       "      <th>Patient_ID</th>\n",
       "      <th>Appointment_ID</th>\n",
       "      <th>Gender</th>\n",
       "      <th>Scheduled_day</th>\n",
       "      <th>Appointment_day</th>\n",
       "      <th>Age</th>\n",
       "      <th>Neighbourhood</th>\n",
       "      <th>Scholarship</th>\n",
       "      <th>Hypertension</th>\n",
       "      <th>Diabete</th>\n",
       "      <th>Alcoholism</th>\n",
       "      <th>Handicap</th>\n",
       "      <th>SMS_received</th>\n",
       "      <th>No-show</th>\n",
       "    </tr>\n",
       "  </thead>\n",
       "  <tbody>\n",
       "    <tr>\n",
       "      <th>99832</th>\n",
       "      <td>4.659432e+14</td>\n",
       "      <td>5775010</td>\n",
       "      <td>F</td>\n",
       "      <td>2016-06-06T08:58:13Z</td>\n",
       "      <td>2016-06-06T00:00:00Z</td>\n",
       "      <td>-1</td>\n",
       "      <td>ROMÃO</td>\n",
       "      <td>0</td>\n",
       "      <td>0</td>\n",
       "      <td>0</td>\n",
       "      <td>0</td>\n",
       "      <td>0</td>\n",
       "      <td>0</td>\n",
       "      <td>No</td>\n",
       "    </tr>\n",
       "  </tbody>\n",
       "</table>\n",
       "</div>"
      ],
      "text/plain": [
       "         Patient_ID  Appointment_ID Gender         Scheduled_day  \\\n",
       "99832  4.659432e+14         5775010      F  2016-06-06T08:58:13Z   \n",
       "\n",
       "            Appointment_day  Age Neighbourhood  Scholarship  Hypertension  \\\n",
       "99832  2016-06-06T00:00:00Z   -1         ROMÃO            0             0   \n",
       "\n",
       "       Diabete  Alcoholism  Handicap  SMS_received No-show  \n",
       "99832        0           0         0             0      No  "
      ]
     },
     "execution_count": 8,
     "metadata": {},
     "output_type": "execute_result"
    }
   ],
   "source": [
    "records_neg_age=noshow_df.loc[noshow_df['Age'] < 0]\n",
    "records_neg_age"
   ]
  },
  {
   "cell_type": "markdown",
   "metadata": {},
   "source": [
    "Only one record is found. We will check if, by any chance, we have other records for this patient, in which case we could see in another record of this patient its 'true' age."
   ]
  },
  {
   "cell_type": "code",
   "execution_count": 9,
   "metadata": {},
   "outputs": [
    {
     "data": {
      "text/html": [
       "<div>\n",
       "<style>\n",
       "    .dataframe thead tr:only-child th {\n",
       "        text-align: right;\n",
       "    }\n",
       "\n",
       "    .dataframe thead th {\n",
       "        text-align: left;\n",
       "    }\n",
       "\n",
       "    .dataframe tbody tr th {\n",
       "        vertical-align: top;\n",
       "    }\n",
       "</style>\n",
       "<table border=\"1\" class=\"dataframe\">\n",
       "  <thead>\n",
       "    <tr style=\"text-align: right;\">\n",
       "      <th></th>\n",
       "      <th>Patient_ID</th>\n",
       "      <th>Appointment_ID</th>\n",
       "      <th>Gender</th>\n",
       "      <th>Scheduled_day</th>\n",
       "      <th>Appointment_day</th>\n",
       "      <th>Age</th>\n",
       "      <th>Neighbourhood</th>\n",
       "      <th>Scholarship</th>\n",
       "      <th>Hypertension</th>\n",
       "      <th>Diabete</th>\n",
       "      <th>Alcoholism</th>\n",
       "      <th>Handicap</th>\n",
       "      <th>SMS_received</th>\n",
       "      <th>No-show</th>\n",
       "    </tr>\n",
       "  </thead>\n",
       "  <tbody>\n",
       "    <tr>\n",
       "      <th>99832</th>\n",
       "      <td>4.659432e+14</td>\n",
       "      <td>5775010</td>\n",
       "      <td>F</td>\n",
       "      <td>2016-06-06T08:58:13Z</td>\n",
       "      <td>2016-06-06T00:00:00Z</td>\n",
       "      <td>-1</td>\n",
       "      <td>ROMÃO</td>\n",
       "      <td>0</td>\n",
       "      <td>0</td>\n",
       "      <td>0</td>\n",
       "      <td>0</td>\n",
       "      <td>0</td>\n",
       "      <td>0</td>\n",
       "      <td>No</td>\n",
       "    </tr>\n",
       "  </tbody>\n",
       "</table>\n",
       "</div>"
      ],
      "text/plain": [
       "         Patient_ID  Appointment_ID Gender         Scheduled_day  \\\n",
       "99832  4.659432e+14         5775010      F  2016-06-06T08:58:13Z   \n",
       "\n",
       "            Appointment_day  Age Neighbourhood  Scholarship  Hypertension  \\\n",
       "99832  2016-06-06T00:00:00Z   -1         ROMÃO            0             0   \n",
       "\n",
       "       Diabete  Alcoholism  Handicap  SMS_received No-show  \n",
       "99832        0           0         0             0      No  "
      ]
     },
     "execution_count": 9,
     "metadata": {},
     "output_type": "execute_result"
    }
   ],
   "source": [
    "records_patient_neg_age=noshow_df.loc[noshow_df['Patient_ID'] == records_neg_age['Patient_ID'].iloc[0]]\n",
    "records_patient_neg_age"
   ]
  },
  {
   "cell_type": "markdown",
   "metadata": {},
   "source": [
    "There is no other record for this patient. We decide to drop this record from the dataset."
   ]
  },
  {
   "cell_type": "code",
   "execution_count": 10,
   "metadata": {},
   "outputs": [
    {
     "data": {
      "text/html": [
       "<div>\n",
       "<style>\n",
       "    .dataframe thead tr:only-child th {\n",
       "        text-align: right;\n",
       "    }\n",
       "\n",
       "    .dataframe thead th {\n",
       "        text-align: left;\n",
       "    }\n",
       "\n",
       "    .dataframe tbody tr th {\n",
       "        vertical-align: top;\n",
       "    }\n",
       "</style>\n",
       "<table border=\"1\" class=\"dataframe\">\n",
       "  <thead>\n",
       "    <tr style=\"text-align: right;\">\n",
       "      <th></th>\n",
       "      <th>Patient_ID</th>\n",
       "      <th>Appointment_ID</th>\n",
       "      <th>Age</th>\n",
       "      <th>Scholarship</th>\n",
       "      <th>Hypertension</th>\n",
       "      <th>Diabete</th>\n",
       "      <th>Alcoholism</th>\n",
       "      <th>Handicap</th>\n",
       "      <th>SMS_received</th>\n",
       "    </tr>\n",
       "  </thead>\n",
       "  <tbody>\n",
       "    <tr>\n",
       "      <th>count</th>\n",
       "      <td>1.105260e+05</td>\n",
       "      <td>1.105260e+05</td>\n",
       "      <td>110526.000000</td>\n",
       "      <td>110526.000000</td>\n",
       "      <td>110526.000000</td>\n",
       "      <td>110526.000000</td>\n",
       "      <td>110526.000000</td>\n",
       "      <td>110526.000000</td>\n",
       "      <td>110526.000000</td>\n",
       "    </tr>\n",
       "    <tr>\n",
       "      <th>mean</th>\n",
       "      <td>1.474934e+14</td>\n",
       "      <td>5.675304e+06</td>\n",
       "      <td>37.089219</td>\n",
       "      <td>0.098266</td>\n",
       "      <td>0.197248</td>\n",
       "      <td>0.071865</td>\n",
       "      <td>0.030400</td>\n",
       "      <td>0.022248</td>\n",
       "      <td>0.321029</td>\n",
       "    </tr>\n",
       "    <tr>\n",
       "      <th>std</th>\n",
       "      <td>2.560943e+14</td>\n",
       "      <td>7.129544e+04</td>\n",
       "      <td>23.110026</td>\n",
       "      <td>0.297676</td>\n",
       "      <td>0.397923</td>\n",
       "      <td>0.258266</td>\n",
       "      <td>0.171686</td>\n",
       "      <td>0.161543</td>\n",
       "      <td>0.466874</td>\n",
       "    </tr>\n",
       "    <tr>\n",
       "      <th>min</th>\n",
       "      <td>3.921784e+04</td>\n",
       "      <td>5.030230e+06</td>\n",
       "      <td>0.000000</td>\n",
       "      <td>0.000000</td>\n",
       "      <td>0.000000</td>\n",
       "      <td>0.000000</td>\n",
       "      <td>0.000000</td>\n",
       "      <td>0.000000</td>\n",
       "      <td>0.000000</td>\n",
       "    </tr>\n",
       "    <tr>\n",
       "      <th>25%</th>\n",
       "      <td>4.172536e+12</td>\n",
       "      <td>5.640285e+06</td>\n",
       "      <td>18.000000</td>\n",
       "      <td>0.000000</td>\n",
       "      <td>0.000000</td>\n",
       "      <td>0.000000</td>\n",
       "      <td>0.000000</td>\n",
       "      <td>0.000000</td>\n",
       "      <td>0.000000</td>\n",
       "    </tr>\n",
       "    <tr>\n",
       "      <th>50%</th>\n",
       "      <td>3.173184e+13</td>\n",
       "      <td>5.680572e+06</td>\n",
       "      <td>37.000000</td>\n",
       "      <td>0.000000</td>\n",
       "      <td>0.000000</td>\n",
       "      <td>0.000000</td>\n",
       "      <td>0.000000</td>\n",
       "      <td>0.000000</td>\n",
       "      <td>0.000000</td>\n",
       "    </tr>\n",
       "    <tr>\n",
       "      <th>75%</th>\n",
       "      <td>9.438963e+13</td>\n",
       "      <td>5.725523e+06</td>\n",
       "      <td>55.000000</td>\n",
       "      <td>0.000000</td>\n",
       "      <td>0.000000</td>\n",
       "      <td>0.000000</td>\n",
       "      <td>0.000000</td>\n",
       "      <td>0.000000</td>\n",
       "      <td>1.000000</td>\n",
       "    </tr>\n",
       "    <tr>\n",
       "      <th>max</th>\n",
       "      <td>9.999816e+14</td>\n",
       "      <td>5.790484e+06</td>\n",
       "      <td>115.000000</td>\n",
       "      <td>1.000000</td>\n",
       "      <td>1.000000</td>\n",
       "      <td>1.000000</td>\n",
       "      <td>1.000000</td>\n",
       "      <td>4.000000</td>\n",
       "      <td>1.000000</td>\n",
       "    </tr>\n",
       "  </tbody>\n",
       "</table>\n",
       "</div>"
      ],
      "text/plain": [
       "         Patient_ID  Appointment_ID            Age    Scholarship  \\\n",
       "count  1.105260e+05    1.105260e+05  110526.000000  110526.000000   \n",
       "mean   1.474934e+14    5.675304e+06      37.089219       0.098266   \n",
       "std    2.560943e+14    7.129544e+04      23.110026       0.297676   \n",
       "min    3.921784e+04    5.030230e+06       0.000000       0.000000   \n",
       "25%    4.172536e+12    5.640285e+06      18.000000       0.000000   \n",
       "50%    3.173184e+13    5.680572e+06      37.000000       0.000000   \n",
       "75%    9.438963e+13    5.725523e+06      55.000000       0.000000   \n",
       "max    9.999816e+14    5.790484e+06     115.000000       1.000000   \n",
       "\n",
       "        Hypertension        Diabete     Alcoholism       Handicap  \\\n",
       "count  110526.000000  110526.000000  110526.000000  110526.000000   \n",
       "mean        0.197248       0.071865       0.030400       0.022248   \n",
       "std         0.397923       0.258266       0.171686       0.161543   \n",
       "min         0.000000       0.000000       0.000000       0.000000   \n",
       "25%         0.000000       0.000000       0.000000       0.000000   \n",
       "50%         0.000000       0.000000       0.000000       0.000000   \n",
       "75%         0.000000       0.000000       0.000000       0.000000   \n",
       "max         1.000000       1.000000       1.000000       4.000000   \n",
       "\n",
       "        SMS_received  \n",
       "count  110526.000000  \n",
       "mean        0.321029  \n",
       "std         0.466874  \n",
       "min         0.000000  \n",
       "25%         0.000000  \n",
       "50%         0.000000  \n",
       "75%         1.000000  \n",
       "max         1.000000  "
      ]
     },
     "execution_count": 10,
     "metadata": {},
     "output_type": "execute_result"
    }
   ],
   "source": [
    "noshow_df=noshow_df.drop(records_patient_neg_age.index)\n",
    "noshow_df.describe()"
   ]
  },
  {
   "cell_type": "markdown",
   "metadata": {},
   "source": [
    "### Creating the 'Age_group' variable\n",
    "\n",
    "In order to be able to see if the ratio of no-show depends on the age category of the patient, we propose to create a new categorical variable 'Age_group'. \n",
    "For the age categories, we use the definition given by the World Health Organization: http://www.who.int/hiv/pub/guidelines/arv2013/intro/keyterms/en/\n",
    "In order to refine a little the Adult category, we introduce the Senior category for age>=65 years.\n",
    "\n",
    "In practice we first create a function and then applying to the 'Age' column of the dataset to create the 'Age_group' column."
   ]
  },
  {
   "cell_type": "code",
   "execution_count": 11,
   "metadata": {},
   "outputs": [
    {
     "data": {
      "text/html": [
       "<div>\n",
       "<style>\n",
       "    .dataframe thead tr:only-child th {\n",
       "        text-align: right;\n",
       "    }\n",
       "\n",
       "    .dataframe thead th {\n",
       "        text-align: left;\n",
       "    }\n",
       "\n",
       "    .dataframe tbody tr th {\n",
       "        vertical-align: top;\n",
       "    }\n",
       "</style>\n",
       "<table border=\"1\" class=\"dataframe\">\n",
       "  <thead>\n",
       "    <tr style=\"text-align: right;\">\n",
       "      <th></th>\n",
       "      <th>Patient_ID</th>\n",
       "      <th>Appointment_ID</th>\n",
       "      <th>Gender</th>\n",
       "      <th>Scheduled_day</th>\n",
       "      <th>Appointment_day</th>\n",
       "      <th>Age</th>\n",
       "      <th>Neighbourhood</th>\n",
       "      <th>Scholarship</th>\n",
       "      <th>Hypertension</th>\n",
       "      <th>Diabete</th>\n",
       "      <th>Alcoholism</th>\n",
       "      <th>Handicap</th>\n",
       "      <th>SMS_received</th>\n",
       "      <th>No-show</th>\n",
       "      <th>Age_group</th>\n",
       "    </tr>\n",
       "  </thead>\n",
       "  <tbody>\n",
       "    <tr>\n",
       "      <th>0</th>\n",
       "      <td>2.987250e+13</td>\n",
       "      <td>5642903</td>\n",
       "      <td>F</td>\n",
       "      <td>2016-04-29T18:38:08Z</td>\n",
       "      <td>2016-04-29T00:00:00Z</td>\n",
       "      <td>62</td>\n",
       "      <td>JARDIM DA PENHA</td>\n",
       "      <td>0</td>\n",
       "      <td>1</td>\n",
       "      <td>0</td>\n",
       "      <td>0</td>\n",
       "      <td>0</td>\n",
       "      <td>0</td>\n",
       "      <td>No</td>\n",
       "      <td>Adult</td>\n",
       "    </tr>\n",
       "    <tr>\n",
       "      <th>1</th>\n",
       "      <td>5.589978e+14</td>\n",
       "      <td>5642503</td>\n",
       "      <td>M</td>\n",
       "      <td>2016-04-29T16:08:27Z</td>\n",
       "      <td>2016-04-29T00:00:00Z</td>\n",
       "      <td>56</td>\n",
       "      <td>JARDIM DA PENHA</td>\n",
       "      <td>0</td>\n",
       "      <td>0</td>\n",
       "      <td>0</td>\n",
       "      <td>0</td>\n",
       "      <td>0</td>\n",
       "      <td>0</td>\n",
       "      <td>No</td>\n",
       "      <td>Adult</td>\n",
       "    </tr>\n",
       "    <tr>\n",
       "      <th>2</th>\n",
       "      <td>4.262962e+12</td>\n",
       "      <td>5642549</td>\n",
       "      <td>F</td>\n",
       "      <td>2016-04-29T16:19:04Z</td>\n",
       "      <td>2016-04-29T00:00:00Z</td>\n",
       "      <td>62</td>\n",
       "      <td>MATA DA PRAIA</td>\n",
       "      <td>0</td>\n",
       "      <td>0</td>\n",
       "      <td>0</td>\n",
       "      <td>0</td>\n",
       "      <td>0</td>\n",
       "      <td>0</td>\n",
       "      <td>No</td>\n",
       "      <td>Adult</td>\n",
       "    </tr>\n",
       "    <tr>\n",
       "      <th>3</th>\n",
       "      <td>8.679512e+11</td>\n",
       "      <td>5642828</td>\n",
       "      <td>F</td>\n",
       "      <td>2016-04-29T17:29:31Z</td>\n",
       "      <td>2016-04-29T00:00:00Z</td>\n",
       "      <td>8</td>\n",
       "      <td>PONTAL DE CAMBURI</td>\n",
       "      <td>0</td>\n",
       "      <td>0</td>\n",
       "      <td>0</td>\n",
       "      <td>0</td>\n",
       "      <td>0</td>\n",
       "      <td>0</td>\n",
       "      <td>No</td>\n",
       "      <td>Child</td>\n",
       "    </tr>\n",
       "    <tr>\n",
       "      <th>4</th>\n",
       "      <td>8.841186e+12</td>\n",
       "      <td>5642494</td>\n",
       "      <td>F</td>\n",
       "      <td>2016-04-29T16:07:23Z</td>\n",
       "      <td>2016-04-29T00:00:00Z</td>\n",
       "      <td>56</td>\n",
       "      <td>JARDIM DA PENHA</td>\n",
       "      <td>0</td>\n",
       "      <td>1</td>\n",
       "      <td>1</td>\n",
       "      <td>0</td>\n",
       "      <td>0</td>\n",
       "      <td>0</td>\n",
       "      <td>No</td>\n",
       "      <td>Adult</td>\n",
       "    </tr>\n",
       "  </tbody>\n",
       "</table>\n",
       "</div>"
      ],
      "text/plain": [
       "     Patient_ID  Appointment_ID Gender         Scheduled_day  \\\n",
       "0  2.987250e+13         5642903      F  2016-04-29T18:38:08Z   \n",
       "1  5.589978e+14         5642503      M  2016-04-29T16:08:27Z   \n",
       "2  4.262962e+12         5642549      F  2016-04-29T16:19:04Z   \n",
       "3  8.679512e+11         5642828      F  2016-04-29T17:29:31Z   \n",
       "4  8.841186e+12         5642494      F  2016-04-29T16:07:23Z   \n",
       "\n",
       "        Appointment_day  Age      Neighbourhood  Scholarship  Hypertension  \\\n",
       "0  2016-04-29T00:00:00Z   62    JARDIM DA PENHA            0             1   \n",
       "1  2016-04-29T00:00:00Z   56    JARDIM DA PENHA            0             0   \n",
       "2  2016-04-29T00:00:00Z   62      MATA DA PRAIA            0             0   \n",
       "3  2016-04-29T00:00:00Z    8  PONTAL DE CAMBURI            0             0   \n",
       "4  2016-04-29T00:00:00Z   56    JARDIM DA PENHA            0             1   \n",
       "\n",
       "   Diabete  Alcoholism  Handicap  SMS_received No-show Age_group  \n",
       "0        0           0         0             0      No     Adult  \n",
       "1        0           0         0             0      No     Adult  \n",
       "2        0           0         0             0      No     Adult  \n",
       "3        0           0         0             0      No     Child  \n",
       "4        1           0         0             0      No     Adult  "
      ]
     },
     "execution_count": 11,
     "metadata": {},
     "output_type": "execute_result"
    }
   ],
   "source": [
    "def age_group(age):\n",
    "    if age<1:\n",
    "        return 'Infant'\n",
    "    elif age<10:\n",
    "        return 'Child'\n",
    "    elif age<=19:\n",
    "        return 'Adolescent'\n",
    "    elif age <65:\n",
    "        return 'Adult'\n",
    "    else:\n",
    "        return 'Senior'\n",
    "    \n",
    "noshow_df['Age_group']=noshow_df['Age'].apply(age_group)\n",
    "\n",
    "noshow_df.head(5)"
   ]
  },
  {
   "cell_type": "markdown",
   "metadata": {},
   "source": [
    "### Creating the 'Admin_district' variable\n",
    "\n",
    "We saw that this dataset only contains appointments in hospitals in the brazilian city of Vitoria.\n",
    "The 81 neighbourhoods were the hospitals are located are grouped into 9 administrative districts (see \n",
    "http://legado.vitoria.es.gov.br/regionais/imagens/regioes/RA_GERAL.pdf\n",
    "We propose to create a new categorical variable for the administrative district. As for the age_group variable, we do so by first creating a function that associate the neighbourhood to the administrative district it belongs to, and then we apply the function to the 'Neighbourhood' column of the dataset."
   ]
  },
  {
   "cell_type": "code",
   "execution_count": 12,
   "metadata": {},
   "outputs": [
    {
     "data": {
      "text/plain": [
       "MARUÍPE            25357\n",
       "SÃO PEDRO          18021\n",
       "JUCUTUQUARA        16882\n",
       "SANTO ANTÔNIO      13430\n",
       "GOIABEIRAS          9907\n",
       "CENTRO              9306\n",
       "JARDIM CAMBURI      7718\n",
       "JARDIM DA PENHA     5833\n",
       "PRAIA DO CANTO      4070\n",
       "UNKNOWN                2\n",
       "Name: Admin_district, dtype: int64"
      ]
     },
     "execution_count": 12,
     "metadata": {},
     "output_type": "execute_result"
    }
   ],
   "source": [
    "def admin_district(neighbourhood):\n",
    "    if neighbourhood in ['ILHA DO PRÍNCIPE','VILA RUBIM','SANTA CLARA', \\\n",
    "                         'PARQUE MOSCOSO','DO MOSCOSO','PIEDADE', \\\n",
    "                         'FONTE GRANDE','CENTRO']:\n",
    "        return 'CENTRO'\n",
    "    elif neighbourhood in ['MÁRIO CYPRESTE','DO QUADRO','CARATOÍRA','DO CABRAL', \\\n",
    "                          'ARIOVALDO FAVALESSA','SANTA TEREZA','SANTO ANTÔNIO', \\\n",
    "                          'BELA VISTA','INHANGUETÁ','ESTRELINHA','UNIVERSITÁRIO', \\\n",
    "                          'GRANDE VITÓRIA']:\n",
    "        return 'SANTO ANTÔNIO'\n",
    "    elif neighbourhood in ['FRADINHOS','CRUZAMENTO','JUCUTUQUARA','DE LOURDES', \\\n",
    "                          'NAZARETH','CONSOLAÇÃO','HORTO','GURIGICA','ROMÃO', \\\n",
    "                          'FORTE SÃO JOÃO','ILHA DE SANTA MARIA','MONTE BELO', \\\n",
    "                          'BENTO FERREIRA','JESUS DE NAZARETH']:\n",
    "        return 'JUCUTUQUARA'\n",
    "    elif neighbourhood in ['JOANA D´ARC','TABUAZEIRO','MARUÍPE','SÃO CRISTÓVÃO', \\\n",
    "                          'SANTA MARTHA','ANDORINHAS','SANTA CECÍLIA','SANTOS DUMONT', \\\n",
    "                          'BONFIM','DA PENHA','ITARARÉ','SÃO BENEDITO']:\n",
    "        return 'MARUÍPE'\n",
    "    elif neighbourhood in ['SANTA LUÍZA','BARRO VERMELHO','SANTA LÚCIA', \\\n",
    "                          'PRAIA DO CANTO','ILHA DO FRADE','SANTA HELENA', \\\n",
    "                          'PRAIA DO SUÁ','ENSEADA DO SUÁ','ILHA DO BOI']:\n",
    "        return 'PRAIA DO CANTO'\n",
    "    elif neighbourhood in ['GOIABEIRAS','ANTÔNIO HONÓRIO','SEGURANÇA DO LAR', \\\n",
    "                          'SOLON BORGES','MARIA ORTIZ','JABOUR','AEROPORTO']:\n",
    "        return 'GOIABEIRAS'\n",
    "    elif neighbourhood in ['SÃO PEDRO','COMDUSA','SANTOS REIS','SÃO JOSÉ', \\\n",
    "                          'ILHA DAS CAIEIRAS','SANTO ANDRÉ','REDENÇÃO', \\\n",
    "                          'CONQUISTA','NOVA PALESTINA','RESISTÊNCIA']:\n",
    "        return 'SÃO PEDRO'\n",
    "    elif neighbourhood in ['JARDIM CAMBURI','PARQUE INDUSTRIAL']:\n",
    "        return 'JARDIM CAMBURI'\n",
    "    elif neighbourhood in ['JARDIM DA PENHA','PONTAL DE CAMBURI','MATA DA PRAIA', \\\n",
    "                          'BOA VISTA','MORADA DE CAMBURI','REPÚBLICA']:\n",
    "        return 'JARDIM DA PENHA'\n",
    "    else:\n",
    "        return 'UNKNOWN'\n",
    "\n",
    "noshow_df['Admin_district']=noshow_df['Neighbourhood'].apply(admin_district)\n",
    "\n",
    "noshow_df['Admin_district'].value_counts()"
   ]
  },
  {
   "cell_type": "markdown",
   "metadata": {},
   "source": [
    "We see that there are 2 records for which the administrative district has not been assigned.\n",
    "Let's have a look at them:"
   ]
  },
  {
   "cell_type": "code",
   "execution_count": 13,
   "metadata": {},
   "outputs": [
    {
     "data": {
      "text/html": [
       "<div>\n",
       "<style>\n",
       "    .dataframe thead tr:only-child th {\n",
       "        text-align: right;\n",
       "    }\n",
       "\n",
       "    .dataframe thead th {\n",
       "        text-align: left;\n",
       "    }\n",
       "\n",
       "    .dataframe tbody tr th {\n",
       "        vertical-align: top;\n",
       "    }\n",
       "</style>\n",
       "<table border=\"1\" class=\"dataframe\">\n",
       "  <thead>\n",
       "    <tr style=\"text-align: right;\">\n",
       "      <th></th>\n",
       "      <th>Patient_ID</th>\n",
       "      <th>Appointment_ID</th>\n",
       "      <th>Gender</th>\n",
       "      <th>Scheduled_day</th>\n",
       "      <th>Appointment_day</th>\n",
       "      <th>Age</th>\n",
       "      <th>Neighbourhood</th>\n",
       "      <th>Scholarship</th>\n",
       "      <th>Hypertension</th>\n",
       "      <th>Diabete</th>\n",
       "      <th>Alcoholism</th>\n",
       "      <th>Handicap</th>\n",
       "      <th>SMS_received</th>\n",
       "      <th>No-show</th>\n",
       "      <th>Age_group</th>\n",
       "      <th>Admin_district</th>\n",
       "    </tr>\n",
       "  </thead>\n",
       "  <tbody>\n",
       "    <tr>\n",
       "      <th>48754</th>\n",
       "      <td>5.349869e+11</td>\n",
       "      <td>5583947</td>\n",
       "      <td>F</td>\n",
       "      <td>2016-04-14T12:25:43Z</td>\n",
       "      <td>2016-05-13T00:00:00Z</td>\n",
       "      <td>51</td>\n",
       "      <td>ILHAS OCEÂNICAS DE TRINDADE</td>\n",
       "      <td>0</td>\n",
       "      <td>0</td>\n",
       "      <td>0</td>\n",
       "      <td>0</td>\n",
       "      <td>0</td>\n",
       "      <td>0</td>\n",
       "      <td>Yes</td>\n",
       "      <td>Adult</td>\n",
       "      <td>UNKNOWN</td>\n",
       "    </tr>\n",
       "    <tr>\n",
       "      <th>48765</th>\n",
       "      <td>7.256430e+12</td>\n",
       "      <td>5583948</td>\n",
       "      <td>F</td>\n",
       "      <td>2016-04-14T12:26:13Z</td>\n",
       "      <td>2016-05-13T00:00:00Z</td>\n",
       "      <td>58</td>\n",
       "      <td>ILHAS OCEÂNICAS DE TRINDADE</td>\n",
       "      <td>0</td>\n",
       "      <td>0</td>\n",
       "      <td>0</td>\n",
       "      <td>0</td>\n",
       "      <td>0</td>\n",
       "      <td>0</td>\n",
       "      <td>Yes</td>\n",
       "      <td>Adult</td>\n",
       "      <td>UNKNOWN</td>\n",
       "    </tr>\n",
       "  </tbody>\n",
       "</table>\n",
       "</div>"
      ],
      "text/plain": [
       "         Patient_ID  Appointment_ID Gender         Scheduled_day  \\\n",
       "48754  5.349869e+11         5583947      F  2016-04-14T12:25:43Z   \n",
       "48765  7.256430e+12         5583948      F  2016-04-14T12:26:13Z   \n",
       "\n",
       "            Appointment_day  Age                Neighbourhood  Scholarship  \\\n",
       "48754  2016-05-13T00:00:00Z   51  ILHAS OCEÂNICAS DE TRINDADE            0   \n",
       "48765  2016-05-13T00:00:00Z   58  ILHAS OCEÂNICAS DE TRINDADE            0   \n",
       "\n",
       "       Hypertension  Diabete  Alcoholism  Handicap  SMS_received No-show  \\\n",
       "48754             0        0           0         0             0     Yes   \n",
       "48765             0        0           0         0             0     Yes   \n",
       "\n",
       "      Age_group Admin_district  \n",
       "48754     Adult        UNKNOWN  \n",
       "48765     Adult        UNKNOWN  "
      ]
     },
     "execution_count": 13,
     "metadata": {},
     "output_type": "execute_result"
    }
   ],
   "source": [
    "noshow_df[noshow_df['Admin_district']=='UNKNOWN']"
   ]
  },
  {
   "cell_type": "markdown",
   "metadata": {},
   "source": [
    "It turns out that these 2 records correspond to the neighbourhood of 'ILHAS OCEÂNICAS DE TRINDADE', which,\n",
    "after quick search on internet, indeed belongs to Vitoria, although these islands are about 1150km East of Vitoria. Note, by the way, that these 2 appointments resulted in a no-show.\n",
    "We decide to keep this neighbourhood as is in the UNKNOWN administrative district category.\n",
    "\n",
    "Creating the Admin_district category and looking at the content of the UNKNOWN category also allowed to check that there was no peculiar values in the 'Neighbourhood' variable. \n",
    "\n"
   ]
  },
  {
   "cell_type": "markdown",
   "metadata": {},
   "source": [
    "### Working on date variables\n",
    "\n",
    "The 'Scheduling_day' and 'Appointment_day' variable contains date and time in string format. \n",
    "We first create a function that:\n",
    "- takes as inputs the 'Appointment_day' and 'Scheduling_day' strings (as they are), \n",
    "- extract the date part of these strings\n",
    "- transform them into datenum objects\n",
    "- then return the difference, in days between the appointment and the scheduling dates."
   ]
  },
  {
   "cell_type": "code",
   "execution_count": 14,
   "metadata": {
    "collapsed": true
   },
   "outputs": [],
   "source": [
    "def nb_days(apt_str,sch_str):\n",
    "    datetime_str='%Y-%m-%d' #format of the date part of the 'Scheduling_day' and 'Appointment_day' strings\n",
    "    # datetime.strptime converts to datenum objects\n",
    "    # .days returns the date difference in days\n",
    "    return (datetime.strptime(apt_str.split('T')[0], datetime_str) - \\\n",
    "            datetime.strptime(sch_str.split('T')[0], datetime_str)).days  "
   ]
  },
  {
   "cell_type": "markdown",
   "metadata": {},
   "source": [
    "Then we apply this function to the noshow_df dataframe, taking the 'Appointment_day' and 'Scheduling_day' columns as input. The resulting new column is named 'Nb_days_sch_apt'."
   ]
  },
  {
   "cell_type": "code",
   "execution_count": 15,
   "metadata": {
    "collapsed": true
   },
   "outputs": [],
   "source": [
    "noshow_df['Nb_days_sch_apt'] = noshow_df.apply(lambda x: nb_days(x['Appointment_day'], x['Scheduled_day']), axis=1)"
   ]
  },
  {
   "cell_type": "code",
   "execution_count": 16,
   "metadata": {},
   "outputs": [
    {
     "data": {
      "text/html": [
       "<div>\n",
       "<style>\n",
       "    .dataframe thead tr:only-child th {\n",
       "        text-align: right;\n",
       "    }\n",
       "\n",
       "    .dataframe thead th {\n",
       "        text-align: left;\n",
       "    }\n",
       "\n",
       "    .dataframe tbody tr th {\n",
       "        vertical-align: top;\n",
       "    }\n",
       "</style>\n",
       "<table border=\"1\" class=\"dataframe\">\n",
       "  <thead>\n",
       "    <tr style=\"text-align: right;\">\n",
       "      <th></th>\n",
       "      <th>Patient_ID</th>\n",
       "      <th>Appointment_ID</th>\n",
       "      <th>Gender</th>\n",
       "      <th>Scheduled_day</th>\n",
       "      <th>Appointment_day</th>\n",
       "      <th>Age</th>\n",
       "      <th>Neighbourhood</th>\n",
       "      <th>Scholarship</th>\n",
       "      <th>Hypertension</th>\n",
       "      <th>Diabete</th>\n",
       "      <th>Alcoholism</th>\n",
       "      <th>Handicap</th>\n",
       "      <th>SMS_received</th>\n",
       "      <th>No-show</th>\n",
       "      <th>Age_group</th>\n",
       "      <th>Admin_district</th>\n",
       "      <th>Nb_days_sch_apt</th>\n",
       "    </tr>\n",
       "  </thead>\n",
       "  <tbody>\n",
       "    <tr>\n",
       "      <th>0</th>\n",
       "      <td>2.987250e+13</td>\n",
       "      <td>5642903</td>\n",
       "      <td>F</td>\n",
       "      <td>2016-04-29T18:38:08Z</td>\n",
       "      <td>2016-04-29T00:00:00Z</td>\n",
       "      <td>62</td>\n",
       "      <td>JARDIM DA PENHA</td>\n",
       "      <td>0</td>\n",
       "      <td>1</td>\n",
       "      <td>0</td>\n",
       "      <td>0</td>\n",
       "      <td>0</td>\n",
       "      <td>0</td>\n",
       "      <td>No</td>\n",
       "      <td>Adult</td>\n",
       "      <td>JARDIM DA PENHA</td>\n",
       "      <td>0</td>\n",
       "    </tr>\n",
       "    <tr>\n",
       "      <th>1</th>\n",
       "      <td>5.589978e+14</td>\n",
       "      <td>5642503</td>\n",
       "      <td>M</td>\n",
       "      <td>2016-04-29T16:08:27Z</td>\n",
       "      <td>2016-04-29T00:00:00Z</td>\n",
       "      <td>56</td>\n",
       "      <td>JARDIM DA PENHA</td>\n",
       "      <td>0</td>\n",
       "      <td>0</td>\n",
       "      <td>0</td>\n",
       "      <td>0</td>\n",
       "      <td>0</td>\n",
       "      <td>0</td>\n",
       "      <td>No</td>\n",
       "      <td>Adult</td>\n",
       "      <td>JARDIM DA PENHA</td>\n",
       "      <td>0</td>\n",
       "    </tr>\n",
       "    <tr>\n",
       "      <th>2</th>\n",
       "      <td>4.262962e+12</td>\n",
       "      <td>5642549</td>\n",
       "      <td>F</td>\n",
       "      <td>2016-04-29T16:19:04Z</td>\n",
       "      <td>2016-04-29T00:00:00Z</td>\n",
       "      <td>62</td>\n",
       "      <td>MATA DA PRAIA</td>\n",
       "      <td>0</td>\n",
       "      <td>0</td>\n",
       "      <td>0</td>\n",
       "      <td>0</td>\n",
       "      <td>0</td>\n",
       "      <td>0</td>\n",
       "      <td>No</td>\n",
       "      <td>Adult</td>\n",
       "      <td>JARDIM DA PENHA</td>\n",
       "      <td>0</td>\n",
       "    </tr>\n",
       "    <tr>\n",
       "      <th>3</th>\n",
       "      <td>8.679512e+11</td>\n",
       "      <td>5642828</td>\n",
       "      <td>F</td>\n",
       "      <td>2016-04-29T17:29:31Z</td>\n",
       "      <td>2016-04-29T00:00:00Z</td>\n",
       "      <td>8</td>\n",
       "      <td>PONTAL DE CAMBURI</td>\n",
       "      <td>0</td>\n",
       "      <td>0</td>\n",
       "      <td>0</td>\n",
       "      <td>0</td>\n",
       "      <td>0</td>\n",
       "      <td>0</td>\n",
       "      <td>No</td>\n",
       "      <td>Child</td>\n",
       "      <td>JARDIM DA PENHA</td>\n",
       "      <td>0</td>\n",
       "    </tr>\n",
       "    <tr>\n",
       "      <th>4</th>\n",
       "      <td>8.841186e+12</td>\n",
       "      <td>5642494</td>\n",
       "      <td>F</td>\n",
       "      <td>2016-04-29T16:07:23Z</td>\n",
       "      <td>2016-04-29T00:00:00Z</td>\n",
       "      <td>56</td>\n",
       "      <td>JARDIM DA PENHA</td>\n",
       "      <td>0</td>\n",
       "      <td>1</td>\n",
       "      <td>1</td>\n",
       "      <td>0</td>\n",
       "      <td>0</td>\n",
       "      <td>0</td>\n",
       "      <td>No</td>\n",
       "      <td>Adult</td>\n",
       "      <td>JARDIM DA PENHA</td>\n",
       "      <td>0</td>\n",
       "    </tr>\n",
       "    <tr>\n",
       "      <th>5</th>\n",
       "      <td>9.598513e+13</td>\n",
       "      <td>5626772</td>\n",
       "      <td>F</td>\n",
       "      <td>2016-04-27T08:36:51Z</td>\n",
       "      <td>2016-04-29T00:00:00Z</td>\n",
       "      <td>76</td>\n",
       "      <td>REPÚBLICA</td>\n",
       "      <td>0</td>\n",
       "      <td>1</td>\n",
       "      <td>0</td>\n",
       "      <td>0</td>\n",
       "      <td>0</td>\n",
       "      <td>0</td>\n",
       "      <td>No</td>\n",
       "      <td>Senior</td>\n",
       "      <td>JARDIM DA PENHA</td>\n",
       "      <td>2</td>\n",
       "    </tr>\n",
       "    <tr>\n",
       "      <th>6</th>\n",
       "      <td>7.336882e+14</td>\n",
       "      <td>5630279</td>\n",
       "      <td>F</td>\n",
       "      <td>2016-04-27T15:05:12Z</td>\n",
       "      <td>2016-04-29T00:00:00Z</td>\n",
       "      <td>23</td>\n",
       "      <td>GOIABEIRAS</td>\n",
       "      <td>0</td>\n",
       "      <td>0</td>\n",
       "      <td>0</td>\n",
       "      <td>0</td>\n",
       "      <td>0</td>\n",
       "      <td>0</td>\n",
       "      <td>Yes</td>\n",
       "      <td>Adult</td>\n",
       "      <td>GOIABEIRAS</td>\n",
       "      <td>2</td>\n",
       "    </tr>\n",
       "    <tr>\n",
       "      <th>7</th>\n",
       "      <td>3.449833e+12</td>\n",
       "      <td>5630575</td>\n",
       "      <td>F</td>\n",
       "      <td>2016-04-27T15:39:58Z</td>\n",
       "      <td>2016-04-29T00:00:00Z</td>\n",
       "      <td>39</td>\n",
       "      <td>GOIABEIRAS</td>\n",
       "      <td>0</td>\n",
       "      <td>0</td>\n",
       "      <td>0</td>\n",
       "      <td>0</td>\n",
       "      <td>0</td>\n",
       "      <td>0</td>\n",
       "      <td>Yes</td>\n",
       "      <td>Adult</td>\n",
       "      <td>GOIABEIRAS</td>\n",
       "      <td>2</td>\n",
       "    </tr>\n",
       "    <tr>\n",
       "      <th>8</th>\n",
       "      <td>5.639473e+13</td>\n",
       "      <td>5638447</td>\n",
       "      <td>F</td>\n",
       "      <td>2016-04-29T08:02:16Z</td>\n",
       "      <td>2016-04-29T00:00:00Z</td>\n",
       "      <td>21</td>\n",
       "      <td>ANDORINHAS</td>\n",
       "      <td>0</td>\n",
       "      <td>0</td>\n",
       "      <td>0</td>\n",
       "      <td>0</td>\n",
       "      <td>0</td>\n",
       "      <td>0</td>\n",
       "      <td>No</td>\n",
       "      <td>Adult</td>\n",
       "      <td>MARUÍPE</td>\n",
       "      <td>0</td>\n",
       "    </tr>\n",
       "    <tr>\n",
       "      <th>9</th>\n",
       "      <td>7.812456e+13</td>\n",
       "      <td>5629123</td>\n",
       "      <td>F</td>\n",
       "      <td>2016-04-27T12:48:25Z</td>\n",
       "      <td>2016-04-29T00:00:00Z</td>\n",
       "      <td>19</td>\n",
       "      <td>CONQUISTA</td>\n",
       "      <td>0</td>\n",
       "      <td>0</td>\n",
       "      <td>0</td>\n",
       "      <td>0</td>\n",
       "      <td>0</td>\n",
       "      <td>0</td>\n",
       "      <td>No</td>\n",
       "      <td>Adolescent</td>\n",
       "      <td>SÃO PEDRO</td>\n",
       "      <td>2</td>\n",
       "    </tr>\n",
       "  </tbody>\n",
       "</table>\n",
       "</div>"
      ],
      "text/plain": [
       "     Patient_ID  Appointment_ID Gender         Scheduled_day  \\\n",
       "0  2.987250e+13         5642903      F  2016-04-29T18:38:08Z   \n",
       "1  5.589978e+14         5642503      M  2016-04-29T16:08:27Z   \n",
       "2  4.262962e+12         5642549      F  2016-04-29T16:19:04Z   \n",
       "3  8.679512e+11         5642828      F  2016-04-29T17:29:31Z   \n",
       "4  8.841186e+12         5642494      F  2016-04-29T16:07:23Z   \n",
       "5  9.598513e+13         5626772      F  2016-04-27T08:36:51Z   \n",
       "6  7.336882e+14         5630279      F  2016-04-27T15:05:12Z   \n",
       "7  3.449833e+12         5630575      F  2016-04-27T15:39:58Z   \n",
       "8  5.639473e+13         5638447      F  2016-04-29T08:02:16Z   \n",
       "9  7.812456e+13         5629123      F  2016-04-27T12:48:25Z   \n",
       "\n",
       "        Appointment_day  Age      Neighbourhood  Scholarship  Hypertension  \\\n",
       "0  2016-04-29T00:00:00Z   62    JARDIM DA PENHA            0             1   \n",
       "1  2016-04-29T00:00:00Z   56    JARDIM DA PENHA            0             0   \n",
       "2  2016-04-29T00:00:00Z   62      MATA DA PRAIA            0             0   \n",
       "3  2016-04-29T00:00:00Z    8  PONTAL DE CAMBURI            0             0   \n",
       "4  2016-04-29T00:00:00Z   56    JARDIM DA PENHA            0             1   \n",
       "5  2016-04-29T00:00:00Z   76          REPÚBLICA            0             1   \n",
       "6  2016-04-29T00:00:00Z   23         GOIABEIRAS            0             0   \n",
       "7  2016-04-29T00:00:00Z   39         GOIABEIRAS            0             0   \n",
       "8  2016-04-29T00:00:00Z   21         ANDORINHAS            0             0   \n",
       "9  2016-04-29T00:00:00Z   19          CONQUISTA            0             0   \n",
       "\n",
       "   Diabete  Alcoholism  Handicap  SMS_received No-show   Age_group  \\\n",
       "0        0           0         0             0      No       Adult   \n",
       "1        0           0         0             0      No       Adult   \n",
       "2        0           0         0             0      No       Adult   \n",
       "3        0           0         0             0      No       Child   \n",
       "4        1           0         0             0      No       Adult   \n",
       "5        0           0         0             0      No      Senior   \n",
       "6        0           0         0             0     Yes       Adult   \n",
       "7        0           0         0             0     Yes       Adult   \n",
       "8        0           0         0             0      No       Adult   \n",
       "9        0           0         0             0      No  Adolescent   \n",
       "\n",
       "    Admin_district  Nb_days_sch_apt  \n",
       "0  JARDIM DA PENHA                0  \n",
       "1  JARDIM DA PENHA                0  \n",
       "2  JARDIM DA PENHA                0  \n",
       "3  JARDIM DA PENHA                0  \n",
       "4  JARDIM DA PENHA                0  \n",
       "5  JARDIM DA PENHA                2  \n",
       "6       GOIABEIRAS                2  \n",
       "7       GOIABEIRAS                2  \n",
       "8          MARUÍPE                0  \n",
       "9        SÃO PEDRO                2  "
      ]
     },
     "execution_count": 16,
     "metadata": {},
     "output_type": "execute_result"
    }
   ],
   "source": [
    "noshow_df.head(10)\n",
    "# it looks good"
   ]
  },
  {
   "cell_type": "markdown",
   "metadata": {},
   "source": [
    "Let's have a quick look at the main statistics of this new variable:"
   ]
  },
  {
   "cell_type": "code",
   "execution_count": 17,
   "metadata": {},
   "outputs": [
    {
     "data": {
      "text/plain": [
       "count    110526.000000\n",
       "mean         10.183794\n",
       "std          15.255034\n",
       "min          -6.000000\n",
       "25%           0.000000\n",
       "50%           4.000000\n",
       "75%          15.000000\n",
       "max         179.000000\n",
       "Name: Nb_days_sch_apt, dtype: float64"
      ]
     },
     "execution_count": 17,
     "metadata": {},
     "output_type": "execute_result"
    }
   ],
   "source": [
    "noshow_df['Nb_days_sch_apt'].describe()"
   ]
  },
  {
   "cell_type": "markdown",
   "metadata": {},
   "source": [
    "We see a negative minimum value, which does not make sense (the scheduling should be at the latest the same day as teh appointment)\n",
    "We display the records where the nb of days is negative:"
   ]
  },
  {
   "cell_type": "code",
   "execution_count": 18,
   "metadata": {},
   "outputs": [
    {
     "data": {
      "text/html": [
       "<div>\n",
       "<style>\n",
       "    .dataframe thead tr:only-child th {\n",
       "        text-align: right;\n",
       "    }\n",
       "\n",
       "    .dataframe thead th {\n",
       "        text-align: left;\n",
       "    }\n",
       "\n",
       "    .dataframe tbody tr th {\n",
       "        vertical-align: top;\n",
       "    }\n",
       "</style>\n",
       "<table border=\"1\" class=\"dataframe\">\n",
       "  <thead>\n",
       "    <tr style=\"text-align: right;\">\n",
       "      <th></th>\n",
       "      <th>Patient_ID</th>\n",
       "      <th>Appointment_ID</th>\n",
       "      <th>Gender</th>\n",
       "      <th>Scheduled_day</th>\n",
       "      <th>Appointment_day</th>\n",
       "      <th>Age</th>\n",
       "      <th>Neighbourhood</th>\n",
       "      <th>Scholarship</th>\n",
       "      <th>Hypertension</th>\n",
       "      <th>Diabete</th>\n",
       "      <th>Alcoholism</th>\n",
       "      <th>Handicap</th>\n",
       "      <th>SMS_received</th>\n",
       "      <th>No-show</th>\n",
       "      <th>Age_group</th>\n",
       "      <th>Admin_district</th>\n",
       "      <th>Nb_days_sch_apt</th>\n",
       "    </tr>\n",
       "  </thead>\n",
       "  <tbody>\n",
       "    <tr>\n",
       "      <th>27033</th>\n",
       "      <td>7.839273e+12</td>\n",
       "      <td>5679978</td>\n",
       "      <td>M</td>\n",
       "      <td>2016-05-10T10:51:53Z</td>\n",
       "      <td>2016-05-09T00:00:00Z</td>\n",
       "      <td>38</td>\n",
       "      <td>RESISTÊNCIA</td>\n",
       "      <td>0</td>\n",
       "      <td>0</td>\n",
       "      <td>0</td>\n",
       "      <td>0</td>\n",
       "      <td>1</td>\n",
       "      <td>0</td>\n",
       "      <td>Yes</td>\n",
       "      <td>Adult</td>\n",
       "      <td>SÃO PEDRO</td>\n",
       "      <td>-1</td>\n",
       "    </tr>\n",
       "    <tr>\n",
       "      <th>55226</th>\n",
       "      <td>7.896294e+12</td>\n",
       "      <td>5715660</td>\n",
       "      <td>F</td>\n",
       "      <td>2016-05-18T14:50:41Z</td>\n",
       "      <td>2016-05-17T00:00:00Z</td>\n",
       "      <td>19</td>\n",
       "      <td>SANTO ANTÔNIO</td>\n",
       "      <td>0</td>\n",
       "      <td>0</td>\n",
       "      <td>0</td>\n",
       "      <td>0</td>\n",
       "      <td>1</td>\n",
       "      <td>0</td>\n",
       "      <td>Yes</td>\n",
       "      <td>Adolescent</td>\n",
       "      <td>SANTO ANTÔNIO</td>\n",
       "      <td>-1</td>\n",
       "    </tr>\n",
       "    <tr>\n",
       "      <th>64175</th>\n",
       "      <td>2.425226e+13</td>\n",
       "      <td>5664962</td>\n",
       "      <td>F</td>\n",
       "      <td>2016-05-05T13:43:58Z</td>\n",
       "      <td>2016-05-04T00:00:00Z</td>\n",
       "      <td>22</td>\n",
       "      <td>CONSOLAÇÃO</td>\n",
       "      <td>0</td>\n",
       "      <td>0</td>\n",
       "      <td>0</td>\n",
       "      <td>0</td>\n",
       "      <td>0</td>\n",
       "      <td>0</td>\n",
       "      <td>Yes</td>\n",
       "      <td>Adult</td>\n",
       "      <td>JUCUTUQUARA</td>\n",
       "      <td>-1</td>\n",
       "    </tr>\n",
       "    <tr>\n",
       "      <th>71533</th>\n",
       "      <td>9.982316e+14</td>\n",
       "      <td>5686628</td>\n",
       "      <td>F</td>\n",
       "      <td>2016-05-11T13:49:20Z</td>\n",
       "      <td>2016-05-05T00:00:00Z</td>\n",
       "      <td>81</td>\n",
       "      <td>SANTO ANTÔNIO</td>\n",
       "      <td>0</td>\n",
       "      <td>0</td>\n",
       "      <td>0</td>\n",
       "      <td>0</td>\n",
       "      <td>0</td>\n",
       "      <td>0</td>\n",
       "      <td>Yes</td>\n",
       "      <td>Senior</td>\n",
       "      <td>SANTO ANTÔNIO</td>\n",
       "      <td>-6</td>\n",
       "    </tr>\n",
       "    <tr>\n",
       "      <th>72362</th>\n",
       "      <td>3.787482e+12</td>\n",
       "      <td>5655637</td>\n",
       "      <td>M</td>\n",
       "      <td>2016-05-04T06:50:57Z</td>\n",
       "      <td>2016-05-03T00:00:00Z</td>\n",
       "      <td>7</td>\n",
       "      <td>TABUAZEIRO</td>\n",
       "      <td>0</td>\n",
       "      <td>0</td>\n",
       "      <td>0</td>\n",
       "      <td>0</td>\n",
       "      <td>0</td>\n",
       "      <td>0</td>\n",
       "      <td>Yes</td>\n",
       "      <td>Child</td>\n",
       "      <td>MARUÍPE</td>\n",
       "      <td>-1</td>\n",
       "    </tr>\n",
       "  </tbody>\n",
       "</table>\n",
       "</div>"
      ],
      "text/plain": [
       "         Patient_ID  Appointment_ID Gender         Scheduled_day  \\\n",
       "27033  7.839273e+12         5679978      M  2016-05-10T10:51:53Z   \n",
       "55226  7.896294e+12         5715660      F  2016-05-18T14:50:41Z   \n",
       "64175  2.425226e+13         5664962      F  2016-05-05T13:43:58Z   \n",
       "71533  9.982316e+14         5686628      F  2016-05-11T13:49:20Z   \n",
       "72362  3.787482e+12         5655637      M  2016-05-04T06:50:57Z   \n",
       "\n",
       "            Appointment_day  Age  Neighbourhood  Scholarship  Hypertension  \\\n",
       "27033  2016-05-09T00:00:00Z   38    RESISTÊNCIA            0             0   \n",
       "55226  2016-05-17T00:00:00Z   19  SANTO ANTÔNIO            0             0   \n",
       "64175  2016-05-04T00:00:00Z   22     CONSOLAÇÃO            0             0   \n",
       "71533  2016-05-05T00:00:00Z   81  SANTO ANTÔNIO            0             0   \n",
       "72362  2016-05-03T00:00:00Z    7     TABUAZEIRO            0             0   \n",
       "\n",
       "       Diabete  Alcoholism  Handicap  SMS_received No-show   Age_group  \\\n",
       "27033        0           0         1             0     Yes       Adult   \n",
       "55226        0           0         1             0     Yes  Adolescent   \n",
       "64175        0           0         0             0     Yes       Adult   \n",
       "71533        0           0         0             0     Yes      Senior   \n",
       "72362        0           0         0             0     Yes       Child   \n",
       "\n",
       "      Admin_district  Nb_days_sch_apt  \n",
       "27033      SÃO PEDRO               -1  \n",
       "55226  SANTO ANTÔNIO               -1  \n",
       "64175    JUCUTUQUARA               -1  \n",
       "71533  SANTO ANTÔNIO               -6  \n",
       "72362        MARUÍPE               -1  "
      ]
     },
     "execution_count": 18,
     "metadata": {},
     "output_type": "execute_result"
    }
   ],
   "source": [
    "records_appt_anachronic=noshow_df[noshow_df['Nb_days_sch_apt']<0]\n",
    "records_appt_anachronic"
   ]
  },
  {
   "cell_type": "markdown",
   "metadata": {},
   "source": [
    "Fortunately, only 5 records are found. These 5 records most likely correspond to registering mistakes. When scheduling the appointment, the patients were inadvertingly given already passed dates... Of course, we have a no show for all these records.\n",
    "We decide to drop these 5 records"
   ]
  },
  {
   "cell_type": "code",
   "execution_count": 19,
   "metadata": {},
   "outputs": [
    {
     "data": {
      "text/plain": [
       "count    110521.000000\n",
       "mean         10.184345\n",
       "std          15.255153\n",
       "min           0.000000\n",
       "25%           0.000000\n",
       "50%           4.000000\n",
       "75%          15.000000\n",
       "max         179.000000\n",
       "Name: Nb_days_sch_apt, dtype: float64"
      ]
     },
     "execution_count": 19,
     "metadata": {},
     "output_type": "execute_result"
    }
   ],
   "source": [
    "noshow_df=noshow_df.drop(records_appt_anachronic.index)\n",
    "noshow_df['Nb_days_sch_apt'].describe()"
   ]
  },
  {
   "cell_type": "markdown",
   "metadata": {},
   "source": [
    "Here again, creating the Nb_days_sch_apt variable and looking at its quick description also allowed to check the date original variables.\n",
    "At that stage, we checked the original columns, cleaned them when appropriate and created new columns that will ease the coming analysis.  "
   ]
  },
  {
   "cell_type": "markdown",
   "metadata": {},
   "source": [
    "<a id='eda'></a>\n",
    "## Exploratory Data Analysis\n",
    "\n",
    "\n",
    "\n",
    "### 'Magnitude' of the no-show problem\n",
    "We first want to have an overall idea of the proportion of no-show in terms of appointments, but also in terms of patients. To answer this question we first compute the (updated) total number of appointments and the number of appointment resulting in a no-show. Same approach with the patients."
   ]
  },
  {
   "cell_type": "code",
   "execution_count": 20,
   "metadata": {},
   "outputs": [
    {
     "name": "stdout",
     "output_type": "stream",
     "text": [
      "total number of appointment records: 110521\n",
      "total number of no-shows: 22314\n",
      "\n",
      "total number of patients: 62298\n",
      "total number of patients with at least 1 no-show: 17661\n"
     ]
    }
   ],
   "source": [
    "tot_num_appts=len(noshow_df.groupby('Appointment_ID'))\n",
    "tot_noshows=len(noshow_df[noshow_df['No-show']=='Yes'])\n",
    "\n",
    "print('total number of appointment records: {}'.format(tot_num_appts))\n",
    "print('total number of no-shows: {}'.format(tot_noshows))\n",
    "print('')\n",
    "\n",
    "# For the number of patients, we group by Patient_ID\n",
    "tot_num_patients=len(noshow_df.groupby('Patient_ID'))\n",
    "tot_num_patients_atleast1noshow=len(noshow_df[noshow_df['No-show']=='Yes'].groupby('Patient_ID'))\n",
    "\n",
    "print('total number of patients: {}'.format(tot_num_patients))\n",
    "print('total number of patients with at least 1 no-show: {}'.format(tot_num_patients_atleast1noshow))"
   ]
  },
  {
   "cell_type": "markdown",
   "metadata": {},
   "source": [
    "We can now compute the corresponding percentages:"
   ]
  },
  {
   "cell_type": "code",
   "execution_count": 21,
   "metadata": {},
   "outputs": [
    {
     "name": "stdout",
     "output_type": "stream",
     "text": [
      "There is 20% of no-show among the 110521 appointment records in the file\n",
      "\n",
      "28% of the patients are responsible for 100% of the no-shows (22314 appointments).\n"
     ]
    }
   ],
   "source": [
    "percentage_appointments_noshow=100*tot_noshows/tot_num_appts\n",
    "print('There is {:.0f}% of no-show among the {} appointment records in the file' \\\n",
    "      .format(percentage_appointments_noshow,tot_num_appts))\n",
    "print('')\n",
    "\n",
    "percentage_patients_noshow=100*tot_num_patients_atleast1noshow/tot_num_patients\n",
    "print('{:.0f}% of the patients are responsible for 100% of the no-shows ({} appointments).' \\\n",
    "      .format(percentage_patients_noshow,tot_noshows))\n"
   ]
  },
  {
   "cell_type": "markdown",
   "metadata": {},
   "source": [
    "### Quick visualization of the patients sample"
   ]
  },
  {
   "cell_type": "markdown",
   "metadata": {},
   "source": [
    "In this section, we want to have a better idea of the sample of patients.\n",
    "We group by patient and only consider the columns that describe the patient. We decide to include the 'neighbourhood' variable, although it originally corresponds to the neighbourhood of the hospital where the appointment took place.  \n",
    "We assume that in the short considered time frame there is no change in the \"attributes\" of each patient."
   ]
  },
  {
   "cell_type": "code",
   "execution_count": 22,
   "metadata": {
    "collapsed": true
   },
   "outputs": [],
   "source": [
    "Patients_attributes=noshow_df.groupby('Patient_ID').min()[['Gender','Age','Neighbourhood','Scholarship','Hypertension', \\\n",
    "                                            'Diabete','Alcoholism','Handicap','Age_group','Admin_district']]"
   ]
  },
  {
   "cell_type": "markdown",
   "metadata": {
    "collapsed": true
   },
   "source": [
    "We start by looking at the age distribution, by gender, with a histogram and boxplots."
   ]
  },
  {
   "cell_type": "code",
   "execution_count": 23,
   "metadata": {},
   "outputs": [
    {
     "data": {
      "image/png": "[encoded data removed]",
      "text/plain": [
       "<matplotlib.figure.Figure at 0x2303f0510b8>"
      ]
     },
     "metadata": {},
     "output_type": "display_data"
    },
    {
     "data": {
      "image/png": "[encoded data removed]",
      "text/plain": [
       "<matplotlib.figure.Figure at 0x2303f77cf28>"
      ]
     },
     "metadata": {},
     "output_type": "display_data"
    }
   ],
   "source": [
    "# histogram (bin size is about 4 years)\n",
    "Patients_attributes.groupby('Gender')['Age'].plot.hist(bins=25,alpha=0.5)\n",
    "plt.xlabel('Patient age in years')\n",
    "plt.legend(['F','M'])\n",
    "\n",
    "# boxplots\n",
    "Patients_attributes.boxplot(column=['Age'], by='Gender')\n",
    "plt.ylabel('Patient age in years');"
   ]
  },
  {
   "cell_type": "markdown",
   "metadata": {},
   "source": [
    "We can see that there are much more female adult patients than male adult patients. The age distribution of the female group also show less dispersion and has a higher median value.\n",
    "\n",
    "Now we want to illustrate the other characteristics of the patients sample using pie plots. \n",
    "As we want to label the pie  charts with the counts instead of the percentages, we create the following function:"
   ]
  },
  {
   "cell_type": "code",
   "execution_count": 24,
   "metadata": {
    "collapsed": true
   },
   "outputs": [],
   "source": [
    "total=len(Patients_attributes)\n",
    "\n",
    "# we define this function to get the number of count from the corresponding percentage value \n",
    "def absolute_value(val):\n",
    "    a  = int(np.round(val/100.*total, 0))\n",
    "    return a"
   ]
  },
  {
   "cell_type": "markdown",
   "metadata": {},
   "source": [
    "We present the 6 pie charts on the same figure:"
   ]
  },
  {
   "cell_type": "code",
   "execution_count": 25,
   "metadata": {},
   "outputs": [
    {
     "data": {
      "image/png": "[encoded data removed]",
      "text/plain": [
       "<matplotlib.figure.Figure at 0x2303f850710>"
      ]
     },
     "metadata": {},
     "output_type": "display_data"
    }
   ],
   "source": [
    "fig, axes = plt.subplots(nrows=2, ncols=3,)\n",
    "fig.set_figheight(10)\n",
    "fig.set_figwidth(15)\n",
    "\n",
    "ax0, ax1, ax2, ax3, ax4, ax5 = axes.flatten()\n",
    "\n",
    "ax0.pie(Patients_attributes['Gender'].value_counts(),autopct=absolute_value, \\\n",
    "        labels=Patients_attributes['Gender'].value_counts().keys())\n",
    "ax0.set_title('Gender')\n",
    "# we use value_counts().keys() to be able to display the legend in the proper order\n",
    "\n",
    "ax1.pie(Patients_attributes['Scholarship'].value_counts(),autopct=absolute_value,labels=['No','Yes'])\n",
    "ax1.set_title('Scholarship')\n",
    "\n",
    "ax2.pie(Patients_attributes['Hypertension'].value_counts(),autopct=absolute_value,labels=['No','Yes'])\n",
    "ax2.set_title('Hypertension')\n",
    "\n",
    "ax3.pie(Patients_attributes['Diabete'].value_counts(),autopct=absolute_value,labels=['No','Yes'])\n",
    "ax3.set_title('Diabete')\n",
    "\n",
    "ax4.pie(Patients_attributes['Alcoholism'].value_counts(),autopct=absolute_value,labels=['No','Yes'])\n",
    "ax4.set_title('Alcoholism')\n",
    "\n",
    "ax5.pie(Patients_attributes['Age_group'].value_counts(),autopct=absolute_value, \\\n",
    "        labels=Patients_attributes['Age_group'].value_counts().keys())\n",
    "ax5.set_title('Age_group');"
   ]
  },
  {
   "cell_type": "markdown",
   "metadata": {},
   "source": [
    "Thans to these representations, we know, for instance, that than one in eleven patients are recipient of the Bolsa Familia welfare. We also see than more than a fifth of the the sample suffer from hypertension.\n",
    "\n",
    "The handicap counts is not so well displayed in a pie chart; we prefer to display it as a table:"
   ]
  },
  {
   "cell_type": "code",
   "execution_count": 26,
   "metadata": {},
   "outputs": [
    {
     "data": {
      "text/plain": [
       "0    61165\n",
       "1     1025\n",
       "2       99\n",
       "3        6\n",
       "4        3\n",
       "Name: Handicap, dtype: int64"
      ]
     },
     "execution_count": 26,
     "metadata": {},
     "output_type": "execute_result"
    }
   ],
   "source": [
    "Patients_attributes['Handicap'].value_counts()"
   ]
  },
  {
   "cell_type": "markdown",
   "metadata": {},
   "source": [
    "As can be seen, only a very small portion of the patient sample (less than 2%) present at least 1 handicap. \n",
    "\n",
    "We now display a pie chart for the distribution over administrative districts:"
   ]
  },
  {
   "cell_type": "code",
   "execution_count": 27,
   "metadata": {},
   "outputs": [
    {
     "data": {
      "image/png": "[encoded data removed]",
      "text/plain": [
       "<matplotlib.figure.Figure at 0x2303f8a41d0>"
      ]
     },
     "metadata": {},
     "output_type": "display_data"
    }
   ],
   "source": [
    "fig, axes = plt.subplots()\n",
    "fig.set_figheight(5)\n",
    "fig.set_figwidth(5)\n",
    "\n",
    "axes.pie(Patients_attributes['Admin_district'].value_counts(),autopct=absolute_value, \\\n",
    "         labels=Patients_attributes['Admin_district'].value_counts().keys())\n",
    "ax5.set_title('Admin_district');\n"
   ]
  },
  {
   "cell_type": "markdown",
   "metadata": {},
   "source": [
    "More than half of the patients lives in the Maruipe, Sao Pedro and Jucutuquara administrative districts."
   ]
  },
  {
   "cell_type": "markdown",
   "metadata": {},
   "source": [
    "### Effect of patient attributes on no-show \n",
    "\n",
    "In this section we try to see whether the proportion of no-show is significantly different when we consider subgroups of the patients sample, for instance the female and male subgroups.\n",
    "In order to visualize this potential difference, we display in each case the normalized contingency table and the mosaic plot. \n",
    "We automatize the process by creating a function:"
   ]
  },
  {
   "cell_type": "code",
   "execution_count": 28,
   "metadata": {
    "collapsed": true
   },
   "outputs": [],
   "source": [
    "# This function takes as input a dataframe containing a bi-state explanatory variable and \n",
    "# a bi-state response variable, and returns the contingency table and the mosaic plot \n",
    "def conting_and_mosaic(df,resp,expl,mosaic_title):\n",
    "    #contingency table using crosstab. We normalize by dividing all values by the sum of values in each column\n",
    "    print(pd.crosstab(df[resp],df[expl],normalize='columns'))\n",
    "    #mosaic plot from statsmodels package\n",
    "    mosaic(df[[expl,resp]], [expl,resp],title=mosaic_title);"
   ]
  },
  {
   "cell_type": "markdown",
   "metadata": {},
   "source": [
    "#### No-show vs. gender"
   ]
  },
  {
   "cell_type": "code",
   "execution_count": 29,
   "metadata": {},
   "outputs": [
    {
     "name": "stdout",
     "output_type": "stream",
     "text": [
      "Gender          F         M\n",
      "No-show                    \n",
      "No       0.796885  0.800362\n",
      "Yes      0.203115  0.199638\n"
     ]
    },
    {
     "data": {
      "image/png": "[encoded data removed]",
      "text/plain": [
       "<matplotlib.figure.Figure at 0x2303f093d30>"
      ]
     },
     "metadata": {},
     "output_type": "display_data"
    }
   ],
   "source": [
    "conting_and_mosaic(noshow_df,'No-show','Gender','No-show (Yes/No) vs. Gender (F/M)')"
   ]
  },
  {
   "cell_type": "markdown",
   "metadata": {},
   "source": [
    "The mosaic plot can be interpreted as follow. \n",
    "- The proportions of the male and female subgroups is shown in the x-axis and with the color (female in red, male in green). \n",
    "- The relative proportion of no-show in each subgroup is given by the horizontal line that divides the shaded and unshaded regions. Here, these vertical lines are at about the same position, which means that the gender of teh patient has no significant effect on the patient showing-up or not at his (her) medical appointment."
   ]
  },
  {
   "cell_type": "markdown",
   "metadata": {},
   "source": [
    "#### No-show vs. Scholarship\n",
    "\n",
    "We may think that the patients thar are recipients of the Bolsa Familia welfare are less likely not to show-up at their medical appointment. Let's use the same function as above to see how it goes:"
   ]
  },
  {
   "cell_type": "code",
   "execution_count": 30,
   "metadata": {},
   "outputs": [
    {
     "name": "stdout",
     "output_type": "stream",
     "text": [
      "Scholarship         0         1\n",
      "No-show                        \n",
      "No           0.801967  0.762637\n",
      "Yes          0.198033  0.237363\n"
     ]
    },
    {
     "data": {
      "image/png": "[encoded data removed]",
      "text/plain": [
       "<matplotlib.figure.Figure at 0x2303f25c828>"
      ]
     },
     "metadata": {},
     "output_type": "display_data"
    }
   ],
   "source": [
    "conting_and_mosaic(noshow_df,'No-show','Scholarship','No-show (Yes/No) vs. Scholarship (0/1)')"
   ]
  },
  {
   "cell_type": "markdown",
   "metadata": {},
   "source": [
    "In fact, the proportion of patients not showing up is slightly higher in the subgroup of welfare recipients. Nevertheless, the difference is quite low (4%).  "
   ]
  },
  {
   "cell_type": "markdown",
   "metadata": {},
   "source": [
    "#### No-show vs. \"special care\"\n",
    "\n",
    "We could also think that the patients suffering from a \"serious\" disease or a handicap are less likely not to show-up as their health needs special care. \n",
    "\n",
    "We decide to create a new variable 'Special_care' whose value is one for the patients that either have at least a handicap or suffer from hypertension, diabete or alcoholism. \n",
    "To create this new variable, we first create a function and then apply it to the dataframe noshow_df."
   ]
  },
  {
   "cell_type": "code",
   "execution_count": 31,
   "metadata": {
    "collapsed": true
   },
   "outputs": [],
   "source": [
    "def special_care(hyp,dia,alc,han):\n",
    "    x = hyp + dia + alc + han\n",
    "    if x>=1:\n",
    "        return 1\n",
    "    else:\n",
    "        return 0"
   ]
  },
  {
   "cell_type": "code",
   "execution_count": 32,
   "metadata": {},
   "outputs": [
    {
     "data": {
      "text/html": [
       "<div>\n",
       "<style>\n",
       "    .dataframe thead tr:only-child th {\n",
       "        text-align: right;\n",
       "    }\n",
       "\n",
       "    .dataframe thead th {\n",
       "        text-align: left;\n",
       "    }\n",
       "\n",
       "    .dataframe tbody tr th {\n",
       "        vertical-align: top;\n",
       "    }\n",
       "</style>\n",
       "<table border=\"1\" class=\"dataframe\">\n",
       "  <thead>\n",
       "    <tr style=\"text-align: right;\">\n",
       "      <th></th>\n",
       "      <th>Patient_ID</th>\n",
       "      <th>Appointment_ID</th>\n",
       "      <th>Gender</th>\n",
       "      <th>Scheduled_day</th>\n",
       "      <th>Appointment_day</th>\n",
       "      <th>Age</th>\n",
       "      <th>Neighbourhood</th>\n",
       "      <th>Scholarship</th>\n",
       "      <th>Hypertension</th>\n",
       "      <th>Diabete</th>\n",
       "      <th>Alcoholism</th>\n",
       "      <th>Handicap</th>\n",
       "      <th>SMS_received</th>\n",
       "      <th>No-show</th>\n",
       "      <th>Age_group</th>\n",
       "      <th>Admin_district</th>\n",
       "      <th>Nb_days_sch_apt</th>\n",
       "      <th>Special_care</th>\n",
       "    </tr>\n",
       "  </thead>\n",
       "  <tbody>\n",
       "    <tr>\n",
       "      <th>0</th>\n",
       "      <td>2.987250e+13</td>\n",
       "      <td>5642903</td>\n",
       "      <td>F</td>\n",
       "      <td>2016-04-29T18:38:08Z</td>\n",
       "      <td>2016-04-29T00:00:00Z</td>\n",
       "      <td>62</td>\n",
       "      <td>JARDIM DA PENHA</td>\n",
       "      <td>0</td>\n",
       "      <td>1</td>\n",
       "      <td>0</td>\n",
       "      <td>0</td>\n",
       "      <td>0</td>\n",
       "      <td>0</td>\n",
       "      <td>No</td>\n",
       "      <td>Adult</td>\n",
       "      <td>JARDIM DA PENHA</td>\n",
       "      <td>0</td>\n",
       "      <td>1</td>\n",
       "    </tr>\n",
       "    <tr>\n",
       "      <th>1</th>\n",
       "      <td>5.589978e+14</td>\n",
       "      <td>5642503</td>\n",
       "      <td>M</td>\n",
       "      <td>2016-04-29T16:08:27Z</td>\n",
       "      <td>2016-04-29T00:00:00Z</td>\n",
       "      <td>56</td>\n",
       "      <td>JARDIM DA PENHA</td>\n",
       "      <td>0</td>\n",
       "      <td>0</td>\n",
       "      <td>0</td>\n",
       "      <td>0</td>\n",
       "      <td>0</td>\n",
       "      <td>0</td>\n",
       "      <td>No</td>\n",
       "      <td>Adult</td>\n",
       "      <td>JARDIM DA PENHA</td>\n",
       "      <td>0</td>\n",
       "      <td>0</td>\n",
       "    </tr>\n",
       "    <tr>\n",
       "      <th>2</th>\n",
       "      <td>4.262962e+12</td>\n",
       "      <td>5642549</td>\n",
       "      <td>F</td>\n",
       "      <td>2016-04-29T16:19:04Z</td>\n",
       "      <td>2016-04-29T00:00:00Z</td>\n",
       "      <td>62</td>\n",
       "      <td>MATA DA PRAIA</td>\n",
       "      <td>0</td>\n",
       "      <td>0</td>\n",
       "      <td>0</td>\n",
       "      <td>0</td>\n",
       "      <td>0</td>\n",
       "      <td>0</td>\n",
       "      <td>No</td>\n",
       "      <td>Adult</td>\n",
       "      <td>JARDIM DA PENHA</td>\n",
       "      <td>0</td>\n",
       "      <td>0</td>\n",
       "    </tr>\n",
       "    <tr>\n",
       "      <th>3</th>\n",
       "      <td>8.679512e+11</td>\n",
       "      <td>5642828</td>\n",
       "      <td>F</td>\n",
       "      <td>2016-04-29T17:29:31Z</td>\n",
       "      <td>2016-04-29T00:00:00Z</td>\n",
       "      <td>8</td>\n",
       "      <td>PONTAL DE CAMBURI</td>\n",
       "      <td>0</td>\n",
       "      <td>0</td>\n",
       "      <td>0</td>\n",
       "      <td>0</td>\n",
       "      <td>0</td>\n",
       "      <td>0</td>\n",
       "      <td>No</td>\n",
       "      <td>Child</td>\n",
       "      <td>JARDIM DA PENHA</td>\n",
       "      <td>0</td>\n",
       "      <td>0</td>\n",
       "    </tr>\n",
       "    <tr>\n",
       "      <th>4</th>\n",
       "      <td>8.841186e+12</td>\n",
       "      <td>5642494</td>\n",
       "      <td>F</td>\n",
       "      <td>2016-04-29T16:07:23Z</td>\n",
       "      <td>2016-04-29T00:00:00Z</td>\n",
       "      <td>56</td>\n",
       "      <td>JARDIM DA PENHA</td>\n",
       "      <td>0</td>\n",
       "      <td>1</td>\n",
       "      <td>1</td>\n",
       "      <td>0</td>\n",
       "      <td>0</td>\n",
       "      <td>0</td>\n",
       "      <td>No</td>\n",
       "      <td>Adult</td>\n",
       "      <td>JARDIM DA PENHA</td>\n",
       "      <td>0</td>\n",
       "      <td>1</td>\n",
       "    </tr>\n",
       "  </tbody>\n",
       "</table>\n",
       "</div>"
      ],
      "text/plain": [
       "     Patient_ID  Appointment_ID Gender         Scheduled_day  \\\n",
       "0  2.987250e+13         5642903      F  2016-04-29T18:38:08Z   \n",
       "1  5.589978e+14         5642503      M  2016-04-29T16:08:27Z   \n",
       "2  4.262962e+12         5642549      F  2016-04-29T16:19:04Z   \n",
       "3  8.679512e+11         5642828      F  2016-04-29T17:29:31Z   \n",
       "4  8.841186e+12         5642494      F  2016-04-29T16:07:23Z   \n",
       "\n",
       "        Appointment_day  Age      Neighbourhood  Scholarship  Hypertension  \\\n",
       "0  2016-04-29T00:00:00Z   62    JARDIM DA PENHA            0             1   \n",
       "1  2016-04-29T00:00:00Z   56    JARDIM DA PENHA            0             0   \n",
       "2  2016-04-29T00:00:00Z   62      MATA DA PRAIA            0             0   \n",
       "3  2016-04-29T00:00:00Z    8  PONTAL DE CAMBURI            0             0   \n",
       "4  2016-04-29T00:00:00Z   56    JARDIM DA PENHA            0             1   \n",
       "\n",
       "   Diabete  Alcoholism  Handicap  SMS_received No-show Age_group  \\\n",
       "0        0           0         0             0      No     Adult   \n",
       "1        0           0         0             0      No     Adult   \n",
       "2        0           0         0             0      No     Adult   \n",
       "3        0           0         0             0      No     Child   \n",
       "4        1           0         0             0      No     Adult   \n",
       "\n",
       "    Admin_district  Nb_days_sch_apt  Special_care  \n",
       "0  JARDIM DA PENHA                0             1  \n",
       "1  JARDIM DA PENHA                0             0  \n",
       "2  JARDIM DA PENHA                0             0  \n",
       "3  JARDIM DA PENHA                0             0  \n",
       "4  JARDIM DA PENHA                0             1  "
      ]
     },
     "execution_count": 32,
     "metadata": {},
     "output_type": "execute_result"
    }
   ],
   "source": [
    "noshow_df['Special_care'] = noshow_df.apply(lambda x: special_care(x['Hypertension'], x['Diabete'],x['Alcoholism'], x['Handicap']), axis=1)\n",
    "noshow_df.head(5)"
   ]
  },
  {
   "cell_type": "markdown",
   "metadata": {},
   "source": [
    "Now we display the contingency table and mosaic plot using this new variable to 'explain' the no-show. "
   ]
  },
  {
   "cell_type": "code",
   "execution_count": 33,
   "metadata": {},
   "outputs": [
    {
     "name": "stdout",
     "output_type": "stream",
     "text": [
      "Special_care         0         1\n",
      "No-show                         \n",
      "No            0.790753  0.821507\n",
      "Yes           0.209247  0.178493\n"
     ]
    },
    {
     "data": {
      "image/png": "[encoded data removed]",
      "text/plain": [
       "<matplotlib.figure.Figure at 0x2303fba6ac8>"
      ]
     },
     "metadata": {},
     "output_type": "display_data"
    }
   ],
   "source": [
    "conting_and_mosaic(noshow_df,'No-show','Special_care','No-show (Yes/No) vs. Special_care (0/1)')"
   ]
  },
  {
   "cell_type": "markdown",
   "metadata": {},
   "source": [
    "The percentage of no-show is indeed slightly lower in the subgroup that need special care, but the difference, here again, is low (3%)."
   ]
  },
  {
   "cell_type": "markdown",
   "metadata": {},
   "source": [
    "#### No-show vs. age category\n",
    "\n",
    "We could expect to see some differences in the proportion of no-show pending on the age category. Indeed, the patients in the infant category are more likely to show-up at their appointments as medical care is crucial for newborns (mandatory vaccines, standard visits to the pediatrician...). On the other hand, the patients in the adult category may be busier than the other age categories and therefore more likely not to show-up at a scheduled appointment.   \n",
    "\n",
    "We display the normalized contingency table and the mosaic plot. "
   ]
  },
  {
   "cell_type": "code",
   "execution_count": 34,
   "metadata": {},
   "outputs": [
    {
     "name": "stdout",
     "output_type": "stream",
     "text": [
      "Age_group  Adolescent     Adult    Child    Infant    Senior\n",
      "No-show                                                     \n",
      "No            0.74828  0.796944  0.79591  0.819441  0.845011\n",
      "Yes           0.25172  0.203056  0.20409  0.180559  0.154989\n"
     ]
    },
    {
     "data": {
      "image/png": "[encoded data removed]",
      "text/plain": [
       "<matplotlib.figure.Figure at 0x2303f921630>"
      ]
     },
     "metadata": {},
     "output_type": "display_data"
    }
   ],
   "source": [
    "print(pd.crosstab(noshow_df['No-show'],noshow_df['Age_group'],normalize='columns'))\n",
    "\n",
    "fig, axis = plt.subplots()\n",
    "fig.set_figheight(5)\n",
    "fig.set_figwidth(15)\n",
    "mosaic(noshow_df[['Age_group','No-show']], ['Age_group','No-show'],title='No-show (Yes/No) vs. Age_group',ax=axis);\n"
   ]
  },
  {
   "cell_type": "markdown",
   "metadata": {},
   "source": [
    "Our guess is not completely confirmed by the analysis of the data we have. On the whole, there is:\n",
    "- a lower proportion of no-show in the infant and senior age groups.\n",
    "- a higher proportion of no-show in the adolescent age group.\n",
    "This time the difference between the senior and adolescent groups (10%) and between the infant and adolescent groups (7%) seems significant.   "
   ]
  },
  {
   "cell_type": "markdown",
   "metadata": {},
   "source": [
    "#### No-show vs. administrative district\n",
    "\n",
    "To conclude this subsection, we wonder whether the no-show ratio is higher in some districts. This could be due, for instance, to the hospitals of a given district being in poor condition compared to the medical facilities of another district.  \n",
    "\n",
    "To adress this point, we display once again the normalized contingency table and the mosaic plot. "
   ]
  },
  {
   "cell_type": "code",
   "execution_count": 35,
   "metadata": {},
   "outputs": [
    {
     "name": "stdout",
     "output_type": "stream",
     "text": [
      "Admin_district    CENTRO  GOIABEIRAS  JARDIM CAMBURI  JARDIM DA PENHA  \\\n",
      "No-show                                                                 \n",
      "No              0.783151    0.802665        0.810184         0.833705   \n",
      "Yes             0.216849    0.197335        0.189816         0.166295   \n",
      "\n",
      "Admin_district  JUCUTUQUARA   MARUÍPE  PRAIA DO CANTO  SANTO ANTÔNIO  \\\n",
      "No-show                                                                \n",
      "No                  0.79083  0.790385        0.795577       0.804141   \n",
      "Yes                 0.20917  0.209615        0.204423       0.195859   \n",
      "\n",
      "Admin_district  SÃO PEDRO  UNKNOWN  \n",
      "No-show                             \n",
      "No               0.800444      0.0  \n",
      "Yes              0.199556      1.0  \n"
     ]
    },
    {
     "data": {
      "image/png": "[encoded data removed]",
      "text/plain": [
       "<matplotlib.figure.Figure at 0x2303f160a58>"
      ]
     },
     "metadata": {},
     "output_type": "display_data"
    }
   ],
   "source": [
    "print(pd.crosstab(noshow_df['No-show'],noshow_df['Admin_district'],normalize='columns'))\n",
    "\n",
    "fig, axis = plt.subplots()\n",
    "fig.set_figheight(5)\n",
    "fig.set_figwidth(20)\n",
    "mosaic(noshow_df[['Admin_district','No-show']], ['Admin_district','No-show'], \\\n",
    "       title='No-show (Yes/No) vs. Admin_district',ax=axis);"
   ]
  },
  {
   "cell_type": "markdown",
   "metadata": {},
   "source": [
    "The no-show ratio of the all the administrative districts of Vitoria is between 17% to 22%. We see some differences, but on the whole the proportion of no-show is quite similar on the different districts. "
   ]
  },
  {
   "cell_type": "markdown",
   "metadata": {
    "collapsed": true
   },
   "source": [
    "### Effect of receiving a SMS \n",
    "\n",
    "In this section, we want to visualize the relation between the variable SMS_received, seen as an explanatory variable, and the response variable No-show. We may expect the patients having received a SMS with the details of their medical appointment to be more likely to show-up. \n",
    "\n",
    "We use the same function as used in the previous sections: "
   ]
  },
  {
   "cell_type": "code",
   "execution_count": 36,
   "metadata": {},
   "outputs": [
    {
     "name": "stdout",
     "output_type": "stream",
     "text": [
      "SMS_received        0         1\n",
      "No-show                        \n",
      "No            0.83302  0.724255\n",
      "Yes           0.16698  0.275745\n"
     ]
    },
    {
     "data": {
      "image/png": "[encoded data removed]",
      "text/plain": [
       "<matplotlib.figure.Figure at 0x2303fbdea58>"
      ]
     },
     "metadata": {},
     "output_type": "display_data"
    }
   ],
   "source": [
    "conting_and_mosaic(noshow_df,'No-show','SMS_received','No-show (Yes/No) vs. SMS_received (0/1)')"
   ]
  },
  {
   "cell_type": "markdown",
   "metadata": {},
   "source": [
    "Surprisingly, the no-show ratio is significantly higher (difference of 11%) for the group of patients having received a SMS. In other words, analysis of this dataset does not support the idea that sending the SMS may reduce the number of no-show."
   ]
  },
  {
   "cell_type": "markdown",
   "metadata": {},
   "source": [
    "### Effect of scheduling in advance\n",
    "\n",
    "In this section, we want to investigate the effect of the delay between scheduling and appointment dates on the fact of showing-up or not at the appointment. \n",
    "\n",
    "In the data wrangling section, we added a column 'Nb_days_sch_apt' to the dataset so that to be able to perform this analysis. We start by plotting the histogram of this variable:"
   ]
  },
  {
   "cell_type": "code",
   "execution_count": 37,
   "metadata": {},
   "outputs": [
    {
     "data": {
      "image/png": "[encoded data removed]",
      "text/plain": [
       "<matplotlib.figure.Figure at 0x2303f7a3320>"
      ]
     },
     "metadata": {},
     "output_type": "display_data"
    }
   ],
   "source": [
    "noshow_df['Nb_days_sch_apt'].plot.hist(bins=50,alpha=0.5)\n",
    "plt.xlabel('Nb of days between scheduling and appointment dates');"
   ]
  },
  {
   "cell_type": "markdown",
   "metadata": {},
   "source": [
    "This is a significantly positively skewed distribution: a large majority of the appointments were scheduled only a few days before (and even the same day as) the appointment.\n",
    "\n",
    "We propose to create a new categorical variable from the variable 'Nb_days_sch_apt'. As already done before, we start by creating a function, then apply it to the dataframe noshow_df:  "
   ]
  },
  {
   "cell_type": "code",
   "execution_count": 38,
   "metadata": {
    "collapsed": true
   },
   "outputs": [],
   "source": [
    "def in_advance_cat(nb_days):\n",
    "    if nb_days == 0:\n",
    "        return 'Same_day'\n",
    "    elif nb_days <=7:\n",
    "        return 'within_1w'\n",
    "    elif nb_days <=21:\n",
    "        return 'btw_1w_and_3w'\n",
    "    else:\n",
    "        return 'more_than_3w'\n",
    "\n",
    "# we create the new column using this function\n",
    "noshow_df['Scheduled_in_advance']=noshow_df['Nb_days_sch_apt'].apply(in_advance_cat)"
   ]
  },
  {
   "cell_type": "markdown",
   "metadata": {},
   "source": [
    "As done before i.e for studying the effect categorical variable 'Admin_district', we display the contingency table and the mosaic plot:"
   ]
  },
  {
   "cell_type": "code",
   "execution_count": 39,
   "metadata": {},
   "outputs": [
    {
     "name": "stdout",
     "output_type": "stream",
     "text": [
      "Scheduled_in_advance  Same_day  btw_1w_and_3w  more_than_3w  within_1w\n",
      "No-show                                                               \n",
      "No                    0.953529       0.687784      0.670199   0.758521\n",
      "Yes                   0.046471       0.312216      0.329801   0.241479\n"
     ]
    },
    {
     "data": {
      "image/png": "[encoded data removed]",
      "text/plain": [
       "<matplotlib.figure.Figure at 0x23043f6a908>"
      ]
     },
     "metadata": {},
     "output_type": "display_data"
    }
   ],
   "source": [
    "print(pd.crosstab(noshow_df['No-show'],noshow_df['Scheduled_in_advance'],normalize='columns'))\n",
    "\n",
    "fig, axis = plt.subplots()\n",
    "fig.set_figheight(10)\n",
    "fig.set_figwidth(20)\n",
    "mosaic(noshow_df[['Scheduled_in_advance','No-show']], ['Scheduled_in_advance','No-show'], \\\n",
    "       title='No-show (Yes/No) vs. Scheduled_in_advance',ax=axis);"
   ]
  },
  {
   "cell_type": "markdown",
   "metadata": {},
   "source": [
    "This time we see a clear pattern: the longer the period between scheduling and appointment, the higher the no-show ratio.\n",
    "The proportion of no-show drops to less than 5% when we consider the patients that scheduled an appointment for the very same day. When it's urgent, you show up.\n",
    "At the other end of the scale, there is almost one third of the appointments booked more than 3 weeks in advance that result in a no-show.  "
   ]
  },
  {
   "cell_type": "markdown",
   "metadata": {},
   "source": [
    "### Effect of the \"serial no-shower\"\n",
    "\n",
    "In this section, we want to see to which extent the no-shows are due to the same patients. Does it make sense to define a category of \"serial no-shower\"?  \n",
    "\n",
    "As we will need, at some point, to sum the no-show of the patients, we first create a new boolean variable 'noshow_1-0' in the noshow_df dataframe, which is simply the column 'No-show' where Yes=1 and No=0."
   ]
  },
  {
   "cell_type": "code",
   "execution_count": 40,
   "metadata": {
    "collapsed": true
   },
   "outputs": [],
   "source": [
    "def yes_to_1(str):\n",
    "    if str == 'Yes':\n",
    "        return 1\n",
    "    else:\n",
    "        return 0\n",
    "    \n",
    "noshow_df['noshow_1-0']=noshow_df['No-show'].apply(yes_to_1)"
   ]
  },
  {
   "cell_type": "markdown",
   "metadata": {},
   "source": [
    "####  At least 1 no-show, at least 2 no-shows"
   ]
  },
  {
   "cell_type": "markdown",
   "metadata": {},
   "source": [
    "We know already (refer to the section 'Magnitude' of the no-show problem), that 28% of the patients are responsible for 100% of the no-shows. Now we would like to calculate the proportion of no-shows due to patients responsible for at least 2 no-shows.\n",
    "\n",
    "To do so, we create the dataframe containing only the appointments resulting in a no-show. We then group by Patient_ID and perfrom a sum over the 'noshow_1-0' variable:"
   ]
  },
  {
   "cell_type": "code",
   "execution_count": 41,
   "metadata": {
    "collapsed": true
   },
   "outputs": [],
   "source": [
    "no_show_is_yes_df=noshow_df[noshow_df['No-show']=='Yes']\n",
    "\n",
    "no_show_sum_per_patient=no_show_is_yes_df.groupby('Patient_ID').sum()['noshow_1-0']"
   ]
  },
  {
   "cell_type": "markdown",
   "metadata": {},
   "source": [
    "We then compute the total number of patients with a at least 2 no-shows, and the total number of no-shows due to patients with at least 2 no-shows."
   ]
  },
  {
   "cell_type": "code",
   "execution_count": 42,
   "metadata": {},
   "outputs": [
    {
     "name": "stdout",
     "output_type": "stream",
     "text": [
      "total number of patients with at least 2 no-shows: 3223\n",
      "total number of no-shows due to patients with at least 2 no-shows: 7876\n"
     ]
    }
   ],
   "source": [
    "tot_num_patients_atleast2noshows=len(no_show_sum_per_patient[no_show_sum_per_patient>1])\n",
    "tot_no_shows_patients_atleast2noshows=sum(no_show_sum_per_patient[no_show_sum_per_patient>1])\n",
    "print('total number of patients with at least 2 no-shows: {}'.format(tot_num_patients_atleast2noshows))\n",
    "print('total number of no-shows due to patients with at least 2 no-shows: {}'.format(tot_no_shows_patients_atleast2noshows))"
   ]
  },
  {
   "cell_type": "markdown",
   "metadata": {},
   "source": [
    "Finally, we compute the percentage of patients and no-shows they respectively correspond to:"
   ]
  },
  {
   "cell_type": "code",
   "execution_count": 43,
   "metadata": {},
   "outputs": [
    {
     "name": "stdout",
     "output_type": "stream",
     "text": [
      "The patients with at least 2 no-shows represents 5% of the patients but are responsible for 35% of the no shows.\n"
     ]
    }
   ],
   "source": [
    "percentage_patients_atleast2noshows=100*tot_num_patients_atleast2noshows/tot_num_patients\n",
    "percentage_no_shows_patients_atleast2noshows=100*tot_no_shows_patients_atleast2noshows/tot_noshows\n",
    "print('The patients with at least 2 no-shows represents {:.0f}% of the patients but are responsible for {:.0f}% of the no shows.' \\\n",
    "      .format(percentage_patients_atleast2noshows,percentage_no_shows_patients_atleast2noshows))"
   ]
  },
  {
   "cell_type": "markdown",
   "metadata": {},
   "source": [
    "#### The worst of the \"serial no-shower\" ?"
   ]
  },
  {
   "cell_type": "markdown",
   "metadata": {},
   "source": [
    "We want to have a closer look at the records of the \"massive\" serial no-shower. We start by looking at the maximum number of no-show from the same patient:"
   ]
  },
  {
   "cell_type": "code",
   "execution_count": 44,
   "metadata": {},
   "outputs": [
    {
     "data": {
      "text/plain": [
       "18"
      ]
     },
     "execution_count": 44,
     "metadata": {},
     "output_type": "execute_result"
    }
   ],
   "source": [
    "no_show_is_yes_df.groupby('Patient_ID').count()['Age'].max()"
   ]
  },
  {
   "cell_type": "markdown",
   "metadata": {},
   "source": [
    "We see a maximum of 18 no shows in a less than 2 months time period!\n",
    "Let's have a deeper look at the records of the patient(s) with 18 no-shows:"
   ]
  },
  {
   "cell_type": "code",
   "execution_count": 45,
   "metadata": {},
   "outputs": [
    {
     "data": {
      "text/html": [
       "<div>\n",
       "<style>\n",
       "    .dataframe thead tr:only-child th {\n",
       "        text-align: right;\n",
       "    }\n",
       "\n",
       "    .dataframe thead th {\n",
       "        text-align: left;\n",
       "    }\n",
       "\n",
       "    .dataframe tbody tr th {\n",
       "        vertical-align: top;\n",
       "    }\n",
       "</style>\n",
       "<table border=\"1\" class=\"dataframe\">\n",
       "  <thead>\n",
       "    <tr style=\"text-align: right;\">\n",
       "      <th></th>\n",
       "      <th>Patient_ID</th>\n",
       "      <th>Appointment_ID</th>\n",
       "      <th>Gender</th>\n",
       "      <th>Scheduled_day</th>\n",
       "      <th>Appointment_day</th>\n",
       "      <th>Age</th>\n",
       "      <th>Neighbourhood</th>\n",
       "      <th>Scholarship</th>\n",
       "      <th>Hypertension</th>\n",
       "      <th>Diabete</th>\n",
       "      <th>Alcoholism</th>\n",
       "      <th>Handicap</th>\n",
       "      <th>SMS_received</th>\n",
       "      <th>No-show</th>\n",
       "      <th>Age_group</th>\n",
       "      <th>Admin_district</th>\n",
       "      <th>Nb_days_sch_apt</th>\n",
       "      <th>Special_care</th>\n",
       "      <th>Scheduled_in_advance</th>\n",
       "      <th>noshow_1-0</th>\n",
       "    </tr>\n",
       "  </thead>\n",
       "  <tbody>\n",
       "    <tr>\n",
       "      <th>53206</th>\n",
       "      <td>1.421987e+12</td>\n",
       "      <td>5683659</td>\n",
       "      <td>M</td>\n",
       "      <td>2016-05-11T07:44:50Z</td>\n",
       "      <td>2016-05-11T00:00:00Z</td>\n",
       "      <td>9</td>\n",
       "      <td>SÃO BENEDITO</td>\n",
       "      <td>0</td>\n",
       "      <td>0</td>\n",
       "      <td>0</td>\n",
       "      <td>0</td>\n",
       "      <td>1</td>\n",
       "      <td>0</td>\n",
       "      <td>Yes</td>\n",
       "      <td>Child</td>\n",
       "      <td>MARUÍPE</td>\n",
       "      <td>0</td>\n",
       "      <td>1</td>\n",
       "      <td>Same_day</td>\n",
       "      <td>1</td>\n",
       "    </tr>\n",
       "    <tr>\n",
       "      <th>53218</th>\n",
       "      <td>1.421987e+12</td>\n",
       "      <td>5660212</td>\n",
       "      <td>M</td>\n",
       "      <td>2016-05-04T15:50:42Z</td>\n",
       "      <td>2016-05-04T00:00:00Z</td>\n",
       "      <td>9</td>\n",
       "      <td>SÃO BENEDITO</td>\n",
       "      <td>0</td>\n",
       "      <td>0</td>\n",
       "      <td>0</td>\n",
       "      <td>0</td>\n",
       "      <td>1</td>\n",
       "      <td>0</td>\n",
       "      <td>Yes</td>\n",
       "      <td>Child</td>\n",
       "      <td>MARUÍPE</td>\n",
       "      <td>0</td>\n",
       "      <td>1</td>\n",
       "      <td>Same_day</td>\n",
       "      <td>1</td>\n",
       "    </tr>\n",
       "    <tr>\n",
       "      <th>53323</th>\n",
       "      <td>1.421987e+12</td>\n",
       "      <td>5660224</td>\n",
       "      <td>M</td>\n",
       "      <td>2016-05-04T15:51:21Z</td>\n",
       "      <td>2016-05-04T00:00:00Z</td>\n",
       "      <td>9</td>\n",
       "      <td>SÃO BENEDITO</td>\n",
       "      <td>0</td>\n",
       "      <td>0</td>\n",
       "      <td>0</td>\n",
       "      <td>0</td>\n",
       "      <td>1</td>\n",
       "      <td>0</td>\n",
       "      <td>Yes</td>\n",
       "      <td>Child</td>\n",
       "      <td>MARUÍPE</td>\n",
       "      <td>0</td>\n",
       "      <td>1</td>\n",
       "      <td>Same_day</td>\n",
       "      <td>1</td>\n",
       "    </tr>\n",
       "    <tr>\n",
       "      <th>53381</th>\n",
       "      <td>1.421987e+12</td>\n",
       "      <td>5740918</td>\n",
       "      <td>M</td>\n",
       "      <td>2016-05-25T16:34:32Z</td>\n",
       "      <td>2016-05-25T00:00:00Z</td>\n",
       "      <td>9</td>\n",
       "      <td>SÃO BENEDITO</td>\n",
       "      <td>0</td>\n",
       "      <td>0</td>\n",
       "      <td>0</td>\n",
       "      <td>0</td>\n",
       "      <td>1</td>\n",
       "      <td>0</td>\n",
       "      <td>Yes</td>\n",
       "      <td>Child</td>\n",
       "      <td>MARUÍPE</td>\n",
       "      <td>0</td>\n",
       "      <td>1</td>\n",
       "      <td>Same_day</td>\n",
       "      <td>1</td>\n",
       "    </tr>\n",
       "    <tr>\n",
       "      <th>53387</th>\n",
       "      <td>1.421987e+12</td>\n",
       "      <td>5683709</td>\n",
       "      <td>M</td>\n",
       "      <td>2016-05-11T07:47:24Z</td>\n",
       "      <td>2016-05-11T00:00:00Z</td>\n",
       "      <td>9</td>\n",
       "      <td>SÃO BENEDITO</td>\n",
       "      <td>0</td>\n",
       "      <td>0</td>\n",
       "      <td>0</td>\n",
       "      <td>0</td>\n",
       "      <td>1</td>\n",
       "      <td>0</td>\n",
       "      <td>Yes</td>\n",
       "      <td>Child</td>\n",
       "      <td>MARUÍPE</td>\n",
       "      <td>0</td>\n",
       "      <td>1</td>\n",
       "      <td>Same_day</td>\n",
       "      <td>1</td>\n",
       "    </tr>\n",
       "    <tr>\n",
       "      <th>53400</th>\n",
       "      <td>1.421987e+12</td>\n",
       "      <td>5660301</td>\n",
       "      <td>M</td>\n",
       "      <td>2016-05-04T16:05:24Z</td>\n",
       "      <td>2016-05-04T00:00:00Z</td>\n",
       "      <td>9</td>\n",
       "      <td>SÃO BENEDITO</td>\n",
       "      <td>0</td>\n",
       "      <td>0</td>\n",
       "      <td>0</td>\n",
       "      <td>0</td>\n",
       "      <td>1</td>\n",
       "      <td>0</td>\n",
       "      <td>Yes</td>\n",
       "      <td>Child</td>\n",
       "      <td>MARUÍPE</td>\n",
       "      <td>0</td>\n",
       "      <td>1</td>\n",
       "      <td>Same_day</td>\n",
       "      <td>1</td>\n",
       "    </tr>\n",
       "    <tr>\n",
       "      <th>53418</th>\n",
       "      <td>1.421987e+12</td>\n",
       "      <td>5660316</td>\n",
       "      <td>M</td>\n",
       "      <td>2016-05-04T16:07:01Z</td>\n",
       "      <td>2016-05-04T00:00:00Z</td>\n",
       "      <td>9</td>\n",
       "      <td>SÃO BENEDITO</td>\n",
       "      <td>0</td>\n",
       "      <td>0</td>\n",
       "      <td>0</td>\n",
       "      <td>0</td>\n",
       "      <td>1</td>\n",
       "      <td>0</td>\n",
       "      <td>Yes</td>\n",
       "      <td>Child</td>\n",
       "      <td>MARUÍPE</td>\n",
       "      <td>0</td>\n",
       "      <td>1</td>\n",
       "      <td>Same_day</td>\n",
       "      <td>1</td>\n",
       "    </tr>\n",
       "    <tr>\n",
       "      <th>70906</th>\n",
       "      <td>1.421987e+12</td>\n",
       "      <td>5740886</td>\n",
       "      <td>M</td>\n",
       "      <td>2016-05-25T16:28:35Z</td>\n",
       "      <td>2016-05-25T00:00:00Z</td>\n",
       "      <td>9</td>\n",
       "      <td>SÃO BENEDITO</td>\n",
       "      <td>0</td>\n",
       "      <td>0</td>\n",
       "      <td>0</td>\n",
       "      <td>0</td>\n",
       "      <td>1</td>\n",
       "      <td>0</td>\n",
       "      <td>Yes</td>\n",
       "      <td>Child</td>\n",
       "      <td>MARUÍPE</td>\n",
       "      <td>0</td>\n",
       "      <td>1</td>\n",
       "      <td>Same_day</td>\n",
       "      <td>1</td>\n",
       "    </tr>\n",
       "    <tr>\n",
       "      <th>70914</th>\n",
       "      <td>1.421987e+12</td>\n",
       "      <td>5683830</td>\n",
       "      <td>M</td>\n",
       "      <td>2016-05-11T07:55:08Z</td>\n",
       "      <td>2016-05-11T00:00:00Z</td>\n",
       "      <td>9</td>\n",
       "      <td>SÃO BENEDITO</td>\n",
       "      <td>0</td>\n",
       "      <td>0</td>\n",
       "      <td>0</td>\n",
       "      <td>0</td>\n",
       "      <td>1</td>\n",
       "      <td>0</td>\n",
       "      <td>Yes</td>\n",
       "      <td>Child</td>\n",
       "      <td>MARUÍPE</td>\n",
       "      <td>0</td>\n",
       "      <td>1</td>\n",
       "      <td>Same_day</td>\n",
       "      <td>1</td>\n",
       "    </tr>\n",
       "    <tr>\n",
       "      <th>70935</th>\n",
       "      <td>1.421987e+12</td>\n",
       "      <td>5660323</td>\n",
       "      <td>M</td>\n",
       "      <td>2016-05-04T16:08:03Z</td>\n",
       "      <td>2016-05-04T00:00:00Z</td>\n",
       "      <td>9</td>\n",
       "      <td>SÃO BENEDITO</td>\n",
       "      <td>0</td>\n",
       "      <td>0</td>\n",
       "      <td>0</td>\n",
       "      <td>0</td>\n",
       "      <td>1</td>\n",
       "      <td>0</td>\n",
       "      <td>Yes</td>\n",
       "      <td>Child</td>\n",
       "      <td>MARUÍPE</td>\n",
       "      <td>0</td>\n",
       "      <td>1</td>\n",
       "      <td>Same_day</td>\n",
       "      <td>1</td>\n",
       "    </tr>\n",
       "    <tr>\n",
       "      <th>90519</th>\n",
       "      <td>1.421987e+12</td>\n",
       "      <td>5758281</td>\n",
       "      <td>M</td>\n",
       "      <td>2016-06-01T10:32:44Z</td>\n",
       "      <td>2016-06-01T00:00:00Z</td>\n",
       "      <td>9</td>\n",
       "      <td>SÃO BENEDITO</td>\n",
       "      <td>0</td>\n",
       "      <td>0</td>\n",
       "      <td>0</td>\n",
       "      <td>0</td>\n",
       "      <td>1</td>\n",
       "      <td>0</td>\n",
       "      <td>Yes</td>\n",
       "      <td>Child</td>\n",
       "      <td>MARUÍPE</td>\n",
       "      <td>0</td>\n",
       "      <td>1</td>\n",
       "      <td>Same_day</td>\n",
       "      <td>1</td>\n",
       "    </tr>\n",
       "    <tr>\n",
       "      <th>90532</th>\n",
       "      <td>1.421987e+12</td>\n",
       "      <td>5786151</td>\n",
       "      <td>M</td>\n",
       "      <td>2016-06-08T08:03:30Z</td>\n",
       "      <td>2016-06-08T00:00:00Z</td>\n",
       "      <td>9</td>\n",
       "      <td>SÃO BENEDITO</td>\n",
       "      <td>0</td>\n",
       "      <td>0</td>\n",
       "      <td>0</td>\n",
       "      <td>0</td>\n",
       "      <td>1</td>\n",
       "      <td>0</td>\n",
       "      <td>Yes</td>\n",
       "      <td>Child</td>\n",
       "      <td>MARUÍPE</td>\n",
       "      <td>0</td>\n",
       "      <td>1</td>\n",
       "      <td>Same_day</td>\n",
       "      <td>1</td>\n",
       "    </tr>\n",
       "    <tr>\n",
       "      <th>95269</th>\n",
       "      <td>1.421987e+12</td>\n",
       "      <td>5758202</td>\n",
       "      <td>M</td>\n",
       "      <td>2016-06-01T10:25:09Z</td>\n",
       "      <td>2016-06-01T00:00:00Z</td>\n",
       "      <td>9</td>\n",
       "      <td>SÃO BENEDITO</td>\n",
       "      <td>0</td>\n",
       "      <td>0</td>\n",
       "      <td>0</td>\n",
       "      <td>0</td>\n",
       "      <td>1</td>\n",
       "      <td>0</td>\n",
       "      <td>Yes</td>\n",
       "      <td>Child</td>\n",
       "      <td>MARUÍPE</td>\n",
       "      <td>0</td>\n",
       "      <td>1</td>\n",
       "      <td>Same_day</td>\n",
       "      <td>1</td>\n",
       "    </tr>\n",
       "    <tr>\n",
       "      <th>95276</th>\n",
       "      <td>1.421987e+12</td>\n",
       "      <td>5758102</td>\n",
       "      <td>M</td>\n",
       "      <td>2016-06-01T10:16:17Z</td>\n",
       "      <td>2016-06-01T00:00:00Z</td>\n",
       "      <td>9</td>\n",
       "      <td>SÃO BENEDITO</td>\n",
       "      <td>0</td>\n",
       "      <td>0</td>\n",
       "      <td>0</td>\n",
       "      <td>0</td>\n",
       "      <td>1</td>\n",
       "      <td>0</td>\n",
       "      <td>Yes</td>\n",
       "      <td>Child</td>\n",
       "      <td>MARUÍPE</td>\n",
       "      <td>0</td>\n",
       "      <td>1</td>\n",
       "      <td>Same_day</td>\n",
       "      <td>1</td>\n",
       "    </tr>\n",
       "    <tr>\n",
       "      <th>95294</th>\n",
       "      <td>1.421987e+12</td>\n",
       "      <td>5785809</td>\n",
       "      <td>M</td>\n",
       "      <td>2016-06-08T07:41:10Z</td>\n",
       "      <td>2016-06-08T00:00:00Z</td>\n",
       "      <td>9</td>\n",
       "      <td>SÃO BENEDITO</td>\n",
       "      <td>0</td>\n",
       "      <td>0</td>\n",
       "      <td>0</td>\n",
       "      <td>0</td>\n",
       "      <td>1</td>\n",
       "      <td>0</td>\n",
       "      <td>Yes</td>\n",
       "      <td>Child</td>\n",
       "      <td>MARUÍPE</td>\n",
       "      <td>0</td>\n",
       "      <td>1</td>\n",
       "      <td>Same_day</td>\n",
       "      <td>1</td>\n",
       "    </tr>\n",
       "    <tr>\n",
       "      <th>95298</th>\n",
       "      <td>1.421987e+12</td>\n",
       "      <td>5761188</td>\n",
       "      <td>M</td>\n",
       "      <td>2016-06-01T16:38:28Z</td>\n",
       "      <td>2016-06-01T00:00:00Z</td>\n",
       "      <td>9</td>\n",
       "      <td>SÃO BENEDITO</td>\n",
       "      <td>0</td>\n",
       "      <td>0</td>\n",
       "      <td>0</td>\n",
       "      <td>0</td>\n",
       "      <td>1</td>\n",
       "      <td>0</td>\n",
       "      <td>Yes</td>\n",
       "      <td>Child</td>\n",
       "      <td>MARUÍPE</td>\n",
       "      <td>0</td>\n",
       "      <td>1</td>\n",
       "      <td>Same_day</td>\n",
       "      <td>1</td>\n",
       "    </tr>\n",
       "    <tr>\n",
       "      <th>95346</th>\n",
       "      <td>1.421987e+12</td>\n",
       "      <td>5785684</td>\n",
       "      <td>M</td>\n",
       "      <td>2016-06-08T07:32:52Z</td>\n",
       "      <td>2016-06-08T00:00:00Z</td>\n",
       "      <td>9</td>\n",
       "      <td>SÃO BENEDITO</td>\n",
       "      <td>0</td>\n",
       "      <td>0</td>\n",
       "      <td>0</td>\n",
       "      <td>0</td>\n",
       "      <td>1</td>\n",
       "      <td>0</td>\n",
       "      <td>Yes</td>\n",
       "      <td>Child</td>\n",
       "      <td>MARUÍPE</td>\n",
       "      <td>0</td>\n",
       "      <td>1</td>\n",
       "      <td>Same_day</td>\n",
       "      <td>1</td>\n",
       "    </tr>\n",
       "    <tr>\n",
       "      <th>95351</th>\n",
       "      <td>1.421987e+12</td>\n",
       "      <td>5757667</td>\n",
       "      <td>M</td>\n",
       "      <td>2016-06-01T09:41:24Z</td>\n",
       "      <td>2016-06-01T00:00:00Z</td>\n",
       "      <td>9</td>\n",
       "      <td>SÃO BENEDITO</td>\n",
       "      <td>0</td>\n",
       "      <td>0</td>\n",
       "      <td>0</td>\n",
       "      <td>0</td>\n",
       "      <td>1</td>\n",
       "      <td>0</td>\n",
       "      <td>Yes</td>\n",
       "      <td>Child</td>\n",
       "      <td>MARUÍPE</td>\n",
       "      <td>0</td>\n",
       "      <td>1</td>\n",
       "      <td>Same_day</td>\n",
       "      <td>1</td>\n",
       "    </tr>\n",
       "  </tbody>\n",
       "</table>\n",
       "</div>"
      ],
      "text/plain": [
       "         Patient_ID  Appointment_ID Gender         Scheduled_day  \\\n",
       "53206  1.421987e+12         5683659      M  2016-05-11T07:44:50Z   \n",
       "53218  1.421987e+12         5660212      M  2016-05-04T15:50:42Z   \n",
       "53323  1.421987e+12         5660224      M  2016-05-04T15:51:21Z   \n",
       "53381  1.421987e+12         5740918      M  2016-05-25T16:34:32Z   \n",
       "53387  1.421987e+12         5683709      M  2016-05-11T07:47:24Z   \n",
       "53400  1.421987e+12         5660301      M  2016-05-04T16:05:24Z   \n",
       "53418  1.421987e+12         5660316      M  2016-05-04T16:07:01Z   \n",
       "70906  1.421987e+12         5740886      M  2016-05-25T16:28:35Z   \n",
       "70914  1.421987e+12         5683830      M  2016-05-11T07:55:08Z   \n",
       "70935  1.421987e+12         5660323      M  2016-05-04T16:08:03Z   \n",
       "90519  1.421987e+12         5758281      M  2016-06-01T10:32:44Z   \n",
       "90532  1.421987e+12         5786151      M  2016-06-08T08:03:30Z   \n",
       "95269  1.421987e+12         5758202      M  2016-06-01T10:25:09Z   \n",
       "95276  1.421987e+12         5758102      M  2016-06-01T10:16:17Z   \n",
       "95294  1.421987e+12         5785809      M  2016-06-08T07:41:10Z   \n",
       "95298  1.421987e+12         5761188      M  2016-06-01T16:38:28Z   \n",
       "95346  1.421987e+12         5785684      M  2016-06-08T07:32:52Z   \n",
       "95351  1.421987e+12         5757667      M  2016-06-01T09:41:24Z   \n",
       "\n",
       "            Appointment_day  Age Neighbourhood  Scholarship  Hypertension  \\\n",
       "53206  2016-05-11T00:00:00Z    9  SÃO BENEDITO            0             0   \n",
       "53218  2016-05-04T00:00:00Z    9  SÃO BENEDITO            0             0   \n",
       "53323  2016-05-04T00:00:00Z    9  SÃO BENEDITO            0             0   \n",
       "53381  2016-05-25T00:00:00Z    9  SÃO BENEDITO            0             0   \n",
       "53387  2016-05-11T00:00:00Z    9  SÃO BENEDITO            0             0   \n",
       "53400  2016-05-04T00:00:00Z    9  SÃO BENEDITO            0             0   \n",
       "53418  2016-05-04T00:00:00Z    9  SÃO BENEDITO            0             0   \n",
       "70906  2016-05-25T00:00:00Z    9  SÃO BENEDITO            0             0   \n",
       "70914  2016-05-11T00:00:00Z    9  SÃO BENEDITO            0             0   \n",
       "70935  2016-05-04T00:00:00Z    9  SÃO BENEDITO            0             0   \n",
       "90519  2016-06-01T00:00:00Z    9  SÃO BENEDITO            0             0   \n",
       "90532  2016-06-08T00:00:00Z    9  SÃO BENEDITO            0             0   \n",
       "95269  2016-06-01T00:00:00Z    9  SÃO BENEDITO            0             0   \n",
       "95276  2016-06-01T00:00:00Z    9  SÃO BENEDITO            0             0   \n",
       "95294  2016-06-08T00:00:00Z    9  SÃO BENEDITO            0             0   \n",
       "95298  2016-06-01T00:00:00Z    9  SÃO BENEDITO            0             0   \n",
       "95346  2016-06-08T00:00:00Z    9  SÃO BENEDITO            0             0   \n",
       "95351  2016-06-01T00:00:00Z    9  SÃO BENEDITO            0             0   \n",
       "\n",
       "       Diabete  Alcoholism  Handicap  SMS_received No-show Age_group  \\\n",
       "53206        0           0         1             0     Yes     Child   \n",
       "53218        0           0         1             0     Yes     Child   \n",
       "53323        0           0         1             0     Yes     Child   \n",
       "53381        0           0         1             0     Yes     Child   \n",
       "53387        0           0         1             0     Yes     Child   \n",
       "53400        0           0         1             0     Yes     Child   \n",
       "53418        0           0         1             0     Yes     Child   \n",
       "70906        0           0         1             0     Yes     Child   \n",
       "70914        0           0         1             0     Yes     Child   \n",
       "70935        0           0         1             0     Yes     Child   \n",
       "90519        0           0         1             0     Yes     Child   \n",
       "90532        0           0         1             0     Yes     Child   \n",
       "95269        0           0         1             0     Yes     Child   \n",
       "95276        0           0         1             0     Yes     Child   \n",
       "95294        0           0         1             0     Yes     Child   \n",
       "95298        0           0         1             0     Yes     Child   \n",
       "95346        0           0         1             0     Yes     Child   \n",
       "95351        0           0         1             0     Yes     Child   \n",
       "\n",
       "      Admin_district  Nb_days_sch_apt  Special_care Scheduled_in_advance  \\\n",
       "53206        MARUÍPE                0             1             Same_day   \n",
       "53218        MARUÍPE                0             1             Same_day   \n",
       "53323        MARUÍPE                0             1             Same_day   \n",
       "53381        MARUÍPE                0             1             Same_day   \n",
       "53387        MARUÍPE                0             1             Same_day   \n",
       "53400        MARUÍPE                0             1             Same_day   \n",
       "53418        MARUÍPE                0             1             Same_day   \n",
       "70906        MARUÍPE                0             1             Same_day   \n",
       "70914        MARUÍPE                0             1             Same_day   \n",
       "70935        MARUÍPE                0             1             Same_day   \n",
       "90519        MARUÍPE                0             1             Same_day   \n",
       "90532        MARUÍPE                0             1             Same_day   \n",
       "95269        MARUÍPE                0             1             Same_day   \n",
       "95276        MARUÍPE                0             1             Same_day   \n",
       "95294        MARUÍPE                0             1             Same_day   \n",
       "95298        MARUÍPE                0             1             Same_day   \n",
       "95346        MARUÍPE                0             1             Same_day   \n",
       "95351        MARUÍPE                0             1             Same_day   \n",
       "\n",
       "       noshow_1-0  \n",
       "53206           1  \n",
       "53218           1  \n",
       "53323           1  \n",
       "53381           1  \n",
       "53387           1  \n",
       "53400           1  \n",
       "53418           1  \n",
       "70906           1  \n",
       "70914           1  \n",
       "70935           1  \n",
       "90519           1  \n",
       "90532           1  \n",
       "95269           1  \n",
       "95276           1  \n",
       "95294           1  \n",
       "95298           1  \n",
       "95346           1  \n",
       "95351           1  "
      ]
     },
     "execution_count": 45,
     "metadata": {},
     "output_type": "execute_result"
    }
   ],
   "source": [
    "# we get the index with argmax\n",
    "top_no_showerID=no_show_is_yes_df.groupby('Patient_ID').count()['Age'].argmax()\n",
    "# we display the records\n",
    "noshow_df[noshow_df['Patient_ID']==top_no_showerID]"
   ]
  },
  {
   "cell_type": "markdown",
   "metadata": {},
   "source": [
    "There is only one patient with 18 no-shows. Quite surprisingly, this patient has never shown up to any appointment.\n",
    "Looking at these 18 records we see that they corresponds only to 5 appointment days. We can see that with a group by Appointment_day:"
   ]
  },
  {
   "cell_type": "code",
   "execution_count": 46,
   "metadata": {},
   "outputs": [
    {
     "data": {
      "text/plain": [
       "Appointment_day\n",
       "2016-05-04T00:00:00Z    5\n",
       "2016-05-11T00:00:00Z    3\n",
       "2016-05-25T00:00:00Z    2\n",
       "2016-06-01T00:00:00Z    5\n",
       "2016-06-08T00:00:00Z    3\n",
       "Name: Age, dtype: int64"
      ]
     },
     "execution_count": 46,
     "metadata": {},
     "output_type": "execute_result"
    }
   ],
   "source": [
    "noshow_df[noshow_df['Patient_ID']==top_no_showerID].groupby('Appointment_day')['Age'].count()"
   ]
  },
  {
   "cell_type": "markdown",
   "metadata": {},
   "source": [
    "This unexpected finding let us question the appointment scheduling system. Indeed, it looks like the system allowed scheduling several times an appointment for the same day. The patient did not receive any confirmation and thus kept on setting up appointments? Why don't we have at least one record per day with no-show=No ?\n",
    "\n",
    "One hypothesis is that the patient never knew whether the booking process had worked and prefered to go directly to the hospital. It seems that the patient did not know how to use the appointment booking tool... \n",
    " \n",
    "The same pattern was observed for other \"top\" no-shower (not shown in this notebook), suggesting that there might be a number of no-show records that correspond in fact to misuses of the tool.  "
   ]
  },
  {
   "cell_type": "markdown",
   "metadata": {},
   "source": [
    "#### Book to show ratio"
   ]
  },
  {
   "cell_type": "markdown",
   "metadata": {},
   "source": [
    "To go further, we introduce the notion of book_to_show ratio. A book_to_show ratio of 1, means that the patient always showed up at the appointment he (she) scheduled. At the opposite side, a book_to_show ratio of 0 means that the patient never showed to his(her) scheduled appointment(s)."
   ]
  },
  {
   "cell_type": "code",
   "execution_count": 47,
   "metadata": {
    "collapsed": true
   },
   "outputs": [],
   "source": [
    "patients_book2show_series=noshow_df.groupby('Patient_ID').mean()['noshow_1-0']\n",
    "patients_book2show_series=1-patients_book2show_series"
   ]
  },
  {
   "cell_type": "markdown",
   "metadata": {},
   "source": [
    "We plot the histogram of this new variable: "
   ]
  },
  {
   "cell_type": "code",
   "execution_count": 48,
   "metadata": {},
   "outputs": [
    {
     "data": {
      "image/png": "[encoded data removed]",
      "text/plain": [
       "<matplotlib.figure.Figure at 0x230445f1b38>"
      ]
     },
     "metadata": {},
     "output_type": "display_data"
    }
   ],
   "source": [
    "patients_book2show_series.plot.hist(bins=20)\n",
    "plt.xlabel('Book to Show Ratio');"
   ]
  },
  {
   "cell_type": "markdown",
   "metadata": {},
   "source": [
    "We can see that there are clearly 2 kinds of patients: those who always show up when they book an appointment\n",
    "and those who never showed up to the appointments they booked.\n",
    "\n",
    "To finish, we calculate the number of patients who never showed up at the appointment(s) they booked, and the portion of the patient sample they represent. \n",
    "We do the same for the patients who always showed up."
   ]
  },
  {
   "cell_type": "code",
   "execution_count": 49,
   "metadata": {},
   "outputs": [
    {
     "name": "stdout",
     "output_type": "stream",
     "text": [
      "There are 8145 patients who never showed up at the appointment(s) they booked.\n",
      "They corresponds to 13% of the patients.\n",
      "\n",
      "There are 44637 patients who always showed up at the appointment(s) they booked.\n",
      "They corresponds to 72% of the patients.\n"
     ]
    }
   ],
   "source": [
    "num_patients_book2showiszero=patients_book2show_series[patients_book2show_series == 0].count()\n",
    "print('There are {} patients who never showed up at the appointment(s) they booked.'.format(num_patients_book2showiszero))\n",
    "print('They corresponds to {:.0%} of the patients.'.format(num_patients_book2showiszero/tot_num_patients))\n",
    "print('')\n",
    "\n",
    "num_patients_book2showisone=patients_book2show_series[patients_book2show_series == 1].count()\n",
    "print('There are {} patients who always showed up at the appointment(s) they booked.'.format(num_patients_book2showisone))\n",
    "print('They corresponds to {:.0%} of the patients.'.format(num_patients_book2showisone/tot_num_patients))"
   ]
  },
  {
   "cell_type": "markdown",
   "metadata": {},
   "source": [
    "<a id='conclusions'></a>\n",
    "## Conclusions\n",
    "\n",
    "\n",
    "\n",
    "On the whole, there is 20% of no-show among the 110521 appointment records in the file, which cover a period from 2016-04-29 to 2016-06-08.\n",
    "28% of the patients are responsible for 100% of the no-shows (22314 appointments).\n",
    "\n",
    "We first tried to explain the variable 'No-show' by different patient-related features considered as independant variables:\n",
    "- The gender of the patient, the fact of being recipient of the Bolsa familia welfare, the fact of needing special care (patients suffering from hypertension, diabete, alcoholism or at least one handicap) or the administrative district did not exhibit significant effect on the no-show ratio.\n",
    "- On the other hand, the adolescent age category was found to have a no-show ratio 10% above that of the senior age category.\n",
    "\n",
    "We then investigated the effect receiving a confirmation SMS (with details of the appointment) on the no-show ratio. Surprisingly, the no-show ratio was found significantly higher (difference of 11%) for the group of patients having received a SMS.\n",
    "\n",
    "A clear trend was then observed when studying the no-show variable versus the period between scheduling and appointment. The longer this period, the higher the no-show ratio. The proportion of no-show was found to be less than 5% for the patients making an appointment for the same day. At the other end of the scale, one third of the appointments made more than 3 weeks in advance resulted in a no-show.\n",
    "\n",
    "Finally, it was found that the patients with at least 2 no-shows represented 5% of the patients but were responsible for 35% of the no shows. Several \"serial no-showers\" with more than 10 no-shows (in a less than 2 month period) were found. Nevertheless, a deeper look at the records of these patients suggested that there might be a number of no-show records corresponding in fact to misuses of the booking tool. \n",
    "\n",
    "A last finding was that 13% of the patients never showed up at the appointment(s) they booked, while 72% of the patients always show up (quasi bimodal distribution of the book-to-show ratio).\n",
    "\n",
    "This analysis was performed without doing any statistical tests. The assumptions and observed trends would need to be confirmed or infirmed by dedicated statistical tests (next issue of this notebook?). "
   ]
  }
 ],
 "metadata": {
  "kernelspec": {
   "display_name": "Python 3",
   "language": "python",
   "name": "python3"
  },
  "language_info": {
   "codemirror_mode": {
    "name": "ipython",
    "version": 3
   },
   "file_extension": ".py",
   "mimetype": "text/x-python",
   "name": "python",
   "nbconvert_exporter": "python",
   "pygments_lexer": "ipython3",
   "version": "3.6.1"
  }
 },
 "nbformat": 4,
 "nbformat_minor": 2
}
